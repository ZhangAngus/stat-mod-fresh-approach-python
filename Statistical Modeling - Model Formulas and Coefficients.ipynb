{
 "metadata": {
  "name": ""
 },
 "nbformat": 3,
 "nbformat_minor": 0,
 "worksheets": [
  {
   "cells": [
    {
     "cell_type": "raw",
     "metadata": {},
     "source": [
      "Title: Model Formulas and Coefficients\n",
      "Date: 2013-10-01 12:00\n",
      "Author: cfarmer\n",
      "Email: carson.farmer@gmail.com\n",
      "Category: Statistical Modeling for Python\n",
      "Tags: Helpful tips, Python, Statistical Modeling, Teaching\n",
      "Slug: statistical-modeling-python-formulas-coefs\n",
      "Latex: yes\n",
      "Status: draft"
     ]
    },
    {
     "cell_type": "markdown",
     "metadata": {},
     "source": [
      "# Model Formulas and Coefficients\n",
      "\n",
      "The `ols` function from the 'statsmodels' library finds model coefficients using Ordinary Least Squares (OLS) regression. To illustrate, here's a series of statements that first load the nessesary libraries ('pandas' and 'statsmodels'), read in a data frame (`swim100m.csv`), and build and fit a model to the data:\n",
      "\n",
      "<span class=\"dataset shadow\"><i class=\"icon-flag\" style=\"font-size: 1.5em;\"></i> `swim100m.csv`</span>"
     ]
    },
    {
     "cell_type": "code",
     "collapsed": false,
     "input": [
      "import pandas as pd\n",
      "import statsmodels.formula.api as sm\n",
      "\n",
      "swim = pd.read_csv(\"http://www.mosaic-web.org/go/datasets/swim100m.csv\")\n",
      "mod = sm.ols(\"time ~ year + sex\", df=swim)\n",
      "fit = mod.fit()"
     ],
     "language": "python",
     "metadata": {},
     "outputs": [],
     "prompt_number": 18
    },
    {
     "cell_type": "markdown",
     "metadata": {},
     "source": [
      "The first argument to `sm.ols` is a model design, the second is the data frame.\n",
      "\n",
      "The object created by `sm.ols` - here given the name `mod` - is an OLS model object which contains a variety of information about the model. To fit the model (i.e., estimate a set of model parameters) we call `mod.fit()`, returning a fitted model object - here called `fit`. Model parameters (or coefficients) can be extracted from the fitted model object using the `params` attribute:"
     ]
    },
    {
     "cell_type": "code",
     "collapsed": false,
     "input": [
      "fit.params"
     ],
     "language": "python",
     "metadata": {},
     "outputs": [
      {
       "metadata": {},
       "output_type": "pyout",
       "prompt_number": 19,
       "text": [
        "Intercept    555.716783\n",
        "sex[T.M]      -9.797961\n",
        "year          -0.251464\n",
        "dtype: float64"
       ]
      }
     ],
     "prompt_number": 19
    },
    {
     "cell_type": "markdown",
     "metadata": {},
     "source": [
      "A more detailed report can be extracted from the fitted model object with the `summary` method. This gives additional statistical information that will be used in later tutorials:"
     ]
    },
    {
     "cell_type": "code",
     "collapsed": false,
     "input": [
      "fit.summary()"
     ],
     "language": "python",
     "metadata": {},
     "outputs": [
      {
       "html": [
        "<table class=\"simpletable\">\n",
        "<caption>OLS Regression Results</caption>\n",
        "<tr>\n",
        "  <th>Dep. Variable:</th>          <td>time</td>       <th>  R-squared:         </th> <td>   0.844</td>\n",
        "</tr>\n",
        "<tr>\n",
        "  <th>Model:</th>                   <td>OLS</td>       <th>  Adj. R-squared:    </th> <td>   0.839</td>\n",
        "</tr>\n",
        "<tr>\n",
        "  <th>Method:</th>             <td>Least Squares</td>  <th>  F-statistic:       </th> <td>   159.6</td>\n",
        "</tr>\n",
        "<tr>\n",
        "  <th>Date:</th>             <td>Tue, 01 Oct 2013</td> <th>  Prob (F-statistic):</th> <td>1.58e-24</td>\n",
        "</tr>\n",
        "<tr>\n",
        "  <th>Time:</th>                 <td>22:50:30</td>     <th>  Log-Likelihood:    </th> <td> -172.12</td>\n",
        "</tr>\n",
        "<tr>\n",
        "  <th>No. Observations:</th>      <td>    62</td>      <th>  AIC:               </th> <td>   350.2</td>\n",
        "</tr>\n",
        "<tr>\n",
        "  <th>Df Residuals:</th>          <td>    59</td>      <th>  BIC:               </th> <td>   356.6</td>\n",
        "</tr>\n",
        "<tr>\n",
        "  <th>Df Model:</th>              <td>     2</td>      <th>                     </th>     <td> </td>   \n",
        "</tr>\n",
        "</table>\n",
        "<table class=\"simpletable\">\n",
        "<tr>\n",
        "      <td></td>         <th>coef</th>     <th>std err</th>      <th>t</th>      <th>P>|t|</th> <th>[95.0% Conf. Int.]</th> \n",
        "</tr>\n",
        "<tr>\n",
        "  <th>Intercept</th> <td>  555.7168</td> <td>   33.800</td> <td>   16.441</td> <td> 0.000</td> <td>  488.083   623.350</td>\n",
        "</tr>\n",
        "<tr>\n",
        "  <th>sex[T.M]</th>  <td>   -9.7980</td> <td>    1.013</td> <td>   -9.673</td> <td> 0.000</td> <td>  -11.825    -7.771</td>\n",
        "</tr>\n",
        "<tr>\n",
        "  <th>year</th>      <td>   -0.2515</td> <td>    0.017</td> <td>  -14.516</td> <td> 0.000</td> <td>   -0.286    -0.217</td>\n",
        "</tr>\n",
        "</table>\n",
        "<table class=\"simpletable\">\n",
        "<tr>\n",
        "  <th>Omnibus:</th>       <td>52.546</td> <th>  Durbin-Watson:     </th> <td>   0.375</td>\n",
        "</tr>\n",
        "<tr>\n",
        "  <th>Prob(Omnibus):</th> <td> 0.000</td> <th>  Jarque-Bera (JB):  </th> <td> 241.626</td>\n",
        "</tr>\n",
        "<tr>\n",
        "  <th>Skew:</th>          <td> 2.430</td> <th>  Prob(JB):          </th> <td>3.40e-53</td>\n",
        "</tr>\n",
        "<tr>\n",
        "  <th>Kurtosis:</th>      <td>11.362</td> <th>  Cond. No.          </th> <td>1.30e+05</td>\n",
        "</tr>\n",
        "</table>"
       ],
       "metadata": {},
       "output_type": "pyout",
       "prompt_number": 24,
       "text": [
        "<class 'statsmodels.iolib.summary.Summary'>\n",
        "\"\"\"\n",
        "                            OLS Regression Results                            \n",
        "==============================================================================\n",
        "Dep. Variable:                   time   R-squared:                       0.844\n",
        "Model:                            OLS   Adj. R-squared:                  0.839\n",
        "Method:                 Least Squares   F-statistic:                     159.6\n",
        "Date:                Tue, 01 Oct 2013   Prob (F-statistic):           1.58e-24\n",
        "Time:                        22:50:30   Log-Likelihood:                -172.12\n",
        "No. Observations:                  62   AIC:                             350.2\n",
        "Df Residuals:                      59   BIC:                             356.6\n",
        "Df Model:                           2                                         \n",
        "==============================================================================\n",
        "                 coef    std err          t      P>|t|      [95.0% Conf. Int.]\n",
        "------------------------------------------------------------------------------\n",
        "Intercept    555.7168     33.800     16.441      0.000       488.083   623.350\n",
        "sex[T.M]      -9.7980      1.013     -9.673      0.000       -11.825    -7.771\n",
        "year          -0.2515      0.017    -14.516      0.000        -0.286    -0.217\n",
        "==============================================================================\n",
        "Omnibus:                       52.546   Durbin-Watson:                   0.375\n",
        "Prob(Omnibus):                  0.000   Jarque-Bera (JB):              241.626\n",
        "Skew:                           2.430   Prob(JB):                     3.40e-53\n",
        "Kurtosis:                      11.362   Cond. No.                     1.30e+05\n",
        "==============================================================================\n",
        "\n",
        "The condition number is large, 1.3e+05. This might indicate that there are\n",
        "strong multicollinearity or other numerical problems.\n",
        "\"\"\""
       ]
      }
     ],
     "prompt_number": 24
    },
    {
     "cell_type": "markdown",
     "metadata": {},
     "source": [
      "From time to time in the tutorials, you will be asked to calculate model values \"by hand\". This is accomplied by multiplying the parameters by the appropriate values and adding them up. For example, the model value for a male swimmer in 2010 would be:"
     ]
    },
    {
     "cell_type": "code",
     "collapsed": false,
     "input": [
      "555.7 - 0.2515*2010 - 9.798"
     ],
     "language": "python",
     "metadata": {},
     "outputs": [
      {
       "metadata": {},
       "output_type": "pyout",
       "prompt_number": 27,
       "text": [
        "40.38700000000006"
       ]
      }
     ],
     "prompt_number": 27
    },
    {
     "cell_type": "markdown",
     "metadata": {},
     "source": [
      "Notice that the \"value\" used to multiply the intercept is always 1, and the \"value\" used for a categorical level is either 0 or 1 depending on whether there is a match with the level. In this example, since the swimmer in question was male, the value of `sex[T.M]` is 1. If the swimmer had been female, the value for `sex[T.M]` would have been 0.\n",
      "\n",
      "When a model includes interaction terms, the interaction coefficients need to be multiplied by all the values involved in the interaction. For example, here is a model with an interaction between `year` and `sex`:"
     ]
    },
    {
     "cell_type": "code",
     "collapsed": false,
     "input": [
      "mod2 = sm.ols(\"time ~ year*sex\", df=swim)\n",
      "fit2 = mod2.fit()\n",
      "fit2.params"
     ],
     "language": "python",
     "metadata": {},
     "outputs": [
      {
       "metadata": {},
       "output_type": "pyout",
       "prompt_number": 31,
       "text": [
        "Intercept        697.301216\n",
        "sex[T.M]        -302.463839\n",
        "year              -0.324046\n",
        "year:sex[T.M]      0.149917\n",
        "dtype: float64"
       ]
      }
     ],
     "prompt_number": 31
    },
    {
     "cell_type": "code",
     "collapsed": false,
     "input": [
      "697.3 - 0.3240*2010 - 302.464 + 0.1499*2010"
     ],
     "language": "python",
     "metadata": {},
     "outputs": [
      {
       "metadata": {},
       "output_type": "pyout",
       "prompt_number": 35,
       "text": [
        "44.89499999999998"
       ]
      }
     ],
     "prompt_number": 35
    },
    {
     "cell_type": "markdown",
     "metadata": {},
     "source": [
      "The `year:sex[T.M]` parameter is being multiplied by the year (2010) and the value of `sex[T.M]`, which is 1 for this male swimmer."
     ]
    },
    {
     "cell_type": "markdown",
     "metadata": {},
     "source": [
      "## Other Useful Operations\n",
      "\n",
      "#### Combining categorical variables\n",
      "\n",
      "It may be useful to combine two (or more) categorical variables into a single variable. For example, in the Current Population Survey data, the variable `sex` has levels `F` and `M`, while the variable `race` has levels `W` and `NW`. Combining the two variables creates a new variable with four levels: `FNW`, `MNW`, `FW`, `MW`:\n",
      "\n",
      "<span class=\"dataset shadow\"><i class=\"icon-flag\" style=\"font-size: 1.5em;\"></i> `cps.csv`</span>"
     ]
    },
    {
     "cell_type": "code",
     "collapsed": false,
     "input": [
      "cps = pd.read_csv(\"http://www.mosaic-web.org/go/datasets/cps.csv\")\n",
      "(cps.sex + cps.race).head() # There are 534 cases in total"
     ],
     "language": "python",
     "metadata": {},
     "outputs": [
      {
       "metadata": {},
       "output_type": "pyout",
       "prompt_number": 43,
       "text": [
        "0    MW\n",
        "1    MW\n",
        "2    FW\n",
        "3    FW\n",
        "4    MW\n",
        "dtype: object"
       ]
      }
     ],
     "prompt_number": 43
    },
    {
     "cell_type": "markdown",
     "metadata": {},
     "source": [
      "This allow us to compute group-wise statistics on the combined groups relatively easily:"
     ]
    },
    {
     "cell_type": "code",
     "collapsed": false,
     "input": [
      "cps.groupby(cps.sex+cps.race).wage.mean()"
     ],
     "language": "python",
     "metadata": {},
     "outputs": [
      {
       "metadata": {},
       "output_type": "pyout",
       "prompt_number": 44,
       "text": [
        "FNW     7.494286\n",
        "FW      7.928479\n",
        "MNW     8.463333\n",
        "MW     10.233840\n",
        "Name: wage, dtype: float64"
       ]
      }
     ],
     "prompt_number": 44
    },
    {
     "cell_type": "markdown",
     "metadata": {},
     "source": [
      "When you combine categorical variables inside a model function (such as `sm.ols`), you won't need to specify the data frame that the variables come from, but you will need to wrap it inside an identity (`I()`) function. For more information on the identiy function and other formula specifics, see the [documentation here][].\n",
      "\n",
      "[documentation here]: https://patsy.readthedocs.org/en/latest/formulas.html"
     ]
    },
    {
     "cell_type": "code",
     "collapsed": false,
     "input": [
      "sm.ols(\"wage ~ I(sex+race)\", df=cps).fit().params"
     ],
     "language": "python",
     "metadata": {},
     "outputs": [
      {
       "metadata": {},
       "output_type": "pyout",
       "prompt_number": 47,
       "text": [
        "Intercept               7.494286\n",
        "I(sex + race)[T.FW]     0.434194\n",
        "I(sex + race)[T.MNW]    0.969048\n",
        "I(sex + race)[T.MW]     2.739554\n",
        "dtype: float64"
       ]
      }
     ],
     "prompt_number": 47
    },
    {
     "cell_type": "markdown",
     "metadata": {},
     "source": [
      "#### Converting variable types\n",
      "\n",
      "To convert between different data types, we can use the `.astype()` method of a column (or Series). This might be useful for converting a quantitative variable to a categorical variable. For example, if a quantity like `month` has been coded as a number, say 1 for January and 2 for February, etc. but you do not want models to treat it as a numeric value, you can change the variable type to a string with `utils.month.astype(str)`.\n",
      "\n",
      "To illustrate, consider two different models of the usage temperature versus month:\n",
      "\n",
      "<span class=\"dataset shadow\"><i class=\"icon-flag\" style=\"font-size: 1.5em;\"></i> `utilities.csv`</span>"
     ]
    },
    {
     "cell_type": "code",
     "collapsed": false,
     "input": [
      "utils = pd.read_csv(\"http://www.mosaic-web.org/go/datasets/utilities.csv\")\n",
      "fit1 = sm.ols(\"temp ~ month\", df=utils).fit()\n",
      "fit2 = sm.ols(\"temp ~ month.astype(str)\", df=utils).fit()"
     ],
     "language": "python",
     "metadata": {},
     "outputs": [],
     "prompt_number": 122
    },
    {
     "cell_type": "markdown",
     "metadata": {},
     "source": [
      "Here are the graphs of those models:"
     ]
    },
    {
     "cell_type": "code",
     "collapsed": false,
     "input": [
      "argx = np.argsort(utils.month) # Use this to sort by month\n",
      "scatter(utils.month[argx], utils.temp[argx], label='observed')\n",
      "plot(utils.month[argx], fit1.fittedvalues[argx], '-', color='r', label='fitted')\n",
      "legend(loc='best', numpoints=1)\n",
      "title(\"fit1 model\")\n",
      "xlabel(\"month\")\n",
      "lab = ylabel(\"temp\")"
     ],
     "language": "python",
     "metadata": {},
     "outputs": [
      {
       "metadata": {},
       "output_type": "display_data",
       "png": "[encoded data removed]",
       "text": [
        "<matplotlib.figure.Figure at 0x5e0e110>"
       ]
      }
     ],
     "prompt_number": 129
    },
    {
     "cell_type": "code",
     "collapsed": false,
     "input": [
      "argx = np.argsort(utils.month) # Use this to sort by month\n",
      "scatter(utils.month[argx], utils.temp[argx], label='observed')\n",
      "plot(utils.month[argx], fit2.fittedvalues[argx], '-', color='r', label='fitted')\n",
      "legend(loc='best', numpoints=1)\n",
      "title(\"fit2 model\")\n",
      "xlabel(\"month\")\n",
      "lab = ylabel(\"temp\")"
     ],
     "language": "python",
     "metadata": {},
     "outputs": [
      {
       "metadata": {},
       "output_type": "display_data",
       "png": "[encoded data removed]",
       "text": [
        "<matplotlib.figure.Figure at 0x5e0a1d0>"
       ]
      }
     ],
     "prompt_number": 130
    },
    {
     "cell_type": "markdown",
     "metadata": {},
     "source": [
      "In the first model, month is treated quantitatively, so the model term `month` produces a straight-line relationship that does not correspond well to the data. In the second model, month is treated categorically, allowing a more complicated model relationship."
     ]
    },
    {
     "cell_type": "markdown",
     "metadata": {},
     "source": [
      "### Next time on, Statistical Modeling: A Fresh Approach for Python...\n",
      "\n",
      "* **Fitting Models to Data**\n",
      "\n",
      "### Reference\n",
      "\n",
      "As with all 'Statistical Modeling: A Fresh Approach for Python' tutorials, this tutorial is based directly on material from ['Statistical Modeling: A Fresh Approach (2nd Edition)'][book] by [Daniel Kaplan][daniel-kaplan].\n",
      "\n",
      "I have made an effort to keep the text and explanations consistent between the original (R-based) version and the Python tutorials, in order to keep things comparable. With that in mind, any errors, omissions, and/or differences between the two versions are mine, and any questions, comments, and/or concerns should be [directed to me][].\n",
      "\n",
      "[book]: http://www.mosaic-web.org/go/StatisticalModeling/\n",
      "[daniel-kaplan]: http://www.macalester.edu/~kaplan/\n",
      "[directed to me]: mailto:carson.farmer@hunter.cuny.edu"
     ]
    }
   ],
   "metadata": {}
  }
 ]
}