{
 "metadata": {
  "name": ""
 },
 "nbformat": 3,
 "nbformat_minor": 0,
 "worksheets": [
  {
   "cells": [
    {
     "cell_type": "raw",
     "metadata": {},
     "source": [
      "Title: Group-wise Models\n",
      "Date: 2013-06-28 12:00\n",
      "Author: cfarmer\n",
      "Email: carson.farmer@gmail.com\n",
      "Category: Statistical Modeling for Python\n",
      "Tags: Helpful tips, Python, Statistical Modeling, Teaching\n",
      "Slug: statistical-modeling-python-group-wise\n",
      "Latex: yes\n",
      "Status: draft"
     ]
    },
    {
     "cell_type": "markdown",
     "metadata": {},
     "source": [
      "# Group-wise Models\n",
      "\n",
      "Calculating means and other simple statistics is a matter of using the right function in Python. The 'pandas' package - which you should `import` in to Python as shown in previous tutorials - makes it straightforward to calculate either a \"grand\" statistic or a \"group-wise\" statistic. To illustrate:\n",
      "\n",
      "Load the pandas and numpy libraries, needed only once per session:"
     ]
    },
    {
     "cell_type": "code",
     "collapsed": false,
     "input": [
      "import numpy as np\n",
      "import pandas as pd"
     ],
     "language": "python",
     "metadata": {},
     "outputs": [],
     "prompt_number": 1
    },
    {
     "cell_type": "markdown",
     "metadata": {},
     "source": [
      "Read in data you are interested in analyzing, for instance the Cherry-Blossom 2008 data described in the textbook, which give the running times of all 12,302 participants in a ten-mile long running race held in Washington, DC in March 2008:\n",
      "\n",
      "<span class=\"dataset shadow\"><i class=\"icon-flag\" style=\"font-size: 1.5em;\"></i> `Cherry-Blossom-2008.csv`</span>"
     ]
    },
    {
     "cell_type": "code",
     "collapsed": false,
     "input": [
      "run = pd.read_csv(\"http://www.mosaic-web.org/go/datasets/Cherry-Blossom-2008.csv\")\n",
      "run.columns"
     ],
     "language": "python",
     "metadata": {},
     "outputs": [
      {
       "output_type": "pyout",
       "prompt_number": 4,
       "text": [
        "array(['position', 'division', 'total', 'name', 'age', 'place', 'net',\n",
        "       'gun', 'sex'], dtype=object)"
       ]
      }
     ],
     "prompt_number": 4
    },
    {
     "cell_type": "markdown",
     "metadata": {},
     "source": [
      "Calculate a grand mean on the `gun` time - the time from the start of the race, signalled by a gun, and when each runner crossed the \ufb01nish line:"
     ]
    },
    {
     "cell_type": "code",
     "collapsed": false,
     "input": [
      "run.gun.mean()"
     ],
     "language": "python",
     "metadata": {},
     "outputs": [
      {
       "output_type": "pyout",
       "prompt_number": 5,
       "text": [
        "93.72503928900467"
       ]
      }
     ],
     "prompt_number": 5
    },
    {
     "cell_type": "markdown",
     "metadata": {},
     "source": [
      "Other 'grand' statistics include:"
     ]
    },
    {
     "cell_type": "code",
     "collapsed": false,
     "input": [
      "run.gun.median()"
     ],
     "language": "python",
     "metadata": {},
     "outputs": [
      {
       "output_type": "pyout",
       "prompt_number": 6,
       "text": [
        "93.6833333333333"
       ]
      }
     ],
     "prompt_number": 6
    },
    {
     "cell_type": "code",
     "collapsed": false,
     "input": [
      "run.gun.std()"
     ],
     "language": "python",
     "metadata": {},
     "outputs": [
      {
       "output_type": "pyout",
       "prompt_number": 8,
       "text": [
        "14.96898682484778"
       ]
      }
     ],
     "prompt_number": 8
    },
    {
     "cell_type": "markdown",
     "metadata": {},
     "source": [
      "To tell Python that you want to break the statistics down by groups, use the `groupby()` function. You will be using this notation frequently in looking at group-wise models."
     ]
    },
    {
     "cell_type": "code",
     "collapsed": false,
     "input": [
      "run.groupby(\"sex\").gun.mean()"
     ],
     "language": "python",
     "metadata": {},
     "outputs": [
      {
       "output_type": "pyout",
       "prompt_number": 13,
       "text": [
        "sex\n",
        "F      98.772771\n",
        "M      88.256734\n",
        "Name: gun, dtype: float64"
       ]
      }
     ],
     "prompt_number": 13
    },
    {
     "cell_type": "markdown",
     "metadata": {},
     "source": [
      "Other statistics work the same way, for instance:"
     ]
    },
    {
     "cell_type": "code",
     "collapsed": false,
     "input": [
      "run.groupby(\"sex\").gun.std()"
     ],
     "language": "python",
     "metadata": {},
     "outputs": [
      {
       "output_type": "pyout",
       "prompt_number": 12,
       "text": [
        "sex\n",
        "F      13.337132\n",
        "M      14.718514\n",
        "Name: gun, dtype: float64"
       ]
      }
     ],
     "prompt_number": 12
    },
    {
     "cell_type": "markdown",
     "metadata": {},
     "source": [
      "Another example ... `wage` broken down by `sector` of the economy, using the 'Current Population Survey' wage data used in the textbook:\n",
      "\n",
      "<span class=\"dataset shadow\"><i class=\"icon-flag\" style=\"font-size: 1.5em;\"></i> `cps.csv`</span>"
     ]
    },
    {
     "cell_type": "code",
     "collapsed": false,
     "input": [
      "cps = pd.read_csv(\"http://www.mosaic-web.org/go/datasets/cps.csv\")\n",
      "cps.groupby(\"sector\").wage.mean()"
     ],
     "language": "python",
     "metadata": {},
     "outputs": [
      {
       "output_type": "pyout",
       "prompt_number": 14,
       "text": [
        "sector\n",
        "clerical     7.422577\n",
        "const        9.502000\n",
        "manag       12.704000\n",
        "manuf        8.036029\n",
        "other        8.500588\n",
        "prof        11.947429\n",
        "sales        7.592632\n",
        "service      6.537470\n",
        "Name: wage, dtype: float64"
       ]
      }
     ],
     "prompt_number": 14
    },
    {
     "cell_type": "markdown",
     "metadata": {},
     "source": [
      "<span class=\"note left shadow\">\n",
      "A study done in the early 1970s in Whickham, UK, examined the health consequences of smoking. The method of the study was simple: interview women to \ufb01nd out who smokes and who doesn\u2019t. Then, 20 years later, follow-up to \ufb01nd out who is still living.\n",
      "</span>\n",
      "\n",
      "<span class=\"dataset shadow\"><i class=\"icon-flag\" style=\"font-size: 1.5em;\"></i> `whickham.csv`</span>"
     ]
    },
    {
     "cell_type": "markdown",
     "metadata": {},
     "source": [
      "In the Whickham smoking data example from the textbook, the outcome for each person was not a number but a category: Alive or Dead at the time of the follow-up."
     ]
    },
    {
     "cell_type": "code",
     "collapsed": false,
     "input": [
      "w = pd.read_csv(\"http://www.mosaic-web.org/go/datasets/whickham.csv\")\n",
      "w.columns"
     ],
     "language": "python",
     "metadata": {},
     "outputs": [
      {
       "output_type": "pyout",
       "prompt_number": 15,
       "text": [
        "Index([outcome, smoker, age], dtype=object)"
       ]
      }
     ],
     "prompt_number": 15
    },
    {
     "cell_type": "code",
     "collapsed": false,
     "input": [
      "w.outcome.unique()"
     ],
     "language": "python",
     "metadata": {},
     "outputs": [
      {
       "output_type": "pyout",
       "prompt_number": 16,
       "text": [
        "array(['Alive', 'Dead'], dtype=object)"
       ]
      }
     ],
     "prompt_number": 16
    },
    {
     "cell_type": "markdown",
     "metadata": {},
     "source": [
      "To find the proportion of people who were alive at the end of the 20-year followup period, you can use a computational trick. Convert the outcome variable to `True` or `False` to indicate whether an individual is alive, then take the mean of the True/False values. Python, like many computer languages, treats `True` as 1 and `False` as 0 for the purposes of doing arithmetic."
     ]
    },
    {
     "cell_type": "code",
     "collapsed": false,
     "input": [
      "w[\"alive\"] = (w.outcome==\"Alive\")\n",
      "w.alive.mean()"
     ],
     "language": "python",
     "metadata": {},
     "outputs": [
      {
       "output_type": "pyout",
       "prompt_number": 29,
       "text": [
        "0.71917808219178081"
       ]
      }
     ],
     "prompt_number": 29
    },
    {
     "cell_type": "markdown",
     "metadata": {},
     "source": [
      "This can also be done using the following 'short hand' version:"
     ]
    },
    {
     "cell_type": "code",
     "collapsed": false,
     "input": [
      "(w.outcome==\"Alive\").mean()"
     ],
     "language": "python",
     "metadata": {},
     "outputs": [
      {
       "output_type": "pyout",
       "prompt_number": 30,
       "text": [
        "0.71917808219178081"
       ]
      }
     ],
     "prompt_number": 30
    },
    {
     "cell_type": "markdown",
     "metadata": {},
     "source": [
      "Here's the breakdown according to smoking status:"
     ]
    },
    {
     "cell_type": "code",
     "collapsed": false,
     "input": [
      "w.groupby(\"smoker\").alive.mean()"
     ],
     "language": "python",
     "metadata": {},
     "outputs": [
      {
       "output_type": "pyout",
       "prompt_number": 31,
       "text": [
        "smoker\n",
        "No        0.685792\n",
        "Yes       0.761168\n",
        "Name: alive, dtype: float64"
       ]
      }
     ],
     "prompt_number": 31
    },
    {
     "cell_type": "markdown",
     "metadata": {},
     "source": [
      "A more meaningful question is whether smokers are di\ufb00erent from non-smokers when holding other variables constant, such as age. To address this question, you need to add age into the model.\n",
      "\n",
      "It might be natural to consider each age - 35, 36, 37, and so on - as a separate group, but you won\u2019t get very many members of each group. And, likely, the data for 35 year-olds has quite a lot to say about 36 year-olds, so it doesn\u2019t make sense to treat them as completely separate groups.\n",
      "\n",
      "You can use the `cut()` function to divide up a quantitative variable into groups. You get to specify the breaks between groups. Using functionality we have already seen (e.g., when we created the new variable `alive` above), you can *add* the new variable to an existing data frame:"
     ]
    },
    {
     "cell_type": "code",
     "collapsed": false,
     "input": [
      "w[\"agegroups\"] = pd.cut(w.age, bins=(0,30,40,53,64,75,100))\n",
      "w.groupby(\"agegroups\").alive.mean()"
     ],
     "language": "python",
     "metadata": {},
     "outputs": [
      {
       "output_type": "pyout",
       "prompt_number": 34,
       "text": [
        "agegroups\n",
        "(0, 30]      0.979167\n",
        "(30, 40]     0.948413\n",
        "(40, 53]     0.832143\n",
        "(53, 64]     0.625498\n",
        "(64, 75]     0.201183\n",
        "(75, 100]    0.000000\n",
        "Name: alive, dtype: float64"
       ]
      }
     ],
     "prompt_number": 34
    },
    {
     "cell_type": "code",
     "collapsed": false,
     "input": [
      "w.groupby((\"agegroups\", \"smoker\")).alive.mean()"
     ],
     "language": "python",
     "metadata": {},
     "outputs": [
      {
       "output_type": "pyout",
       "prompt_number": 36,
       "text": [
        "agegroups  smoker\n",
        "(0, 30]    No        0.981818\n",
        "           Yes       0.975610\n",
        "(30, 40]   No        0.955224\n",
        "           Yes       0.940678\n",
        "(40, 53]   No        0.876106\n",
        "           Yes       0.802395\n",
        "(53, 64]   No        0.669291\n",
        "           Yes       0.580645\n",
        "(64, 75]   No        0.213740\n",
        "           Yes       0.157895\n",
        "(75, 100]  No        0.000000\n",
        "           Yes       0.000000\n",
        "Name: alive, dtype: float64"
       ]
      }
     ],
     "prompt_number": 36
    },
    {
     "cell_type": "markdown",
     "metadata": {},
     "source": [
      "The mean has been calculated group-by-group. This is a very widely used technique, but there is a better approach that will be introduced in later chapters: use quantitative variables directly without dividing them into groups."
     ]
    },
    {
     "cell_type": "markdown",
     "metadata": {},
     "source": [
      "## Model Values and Residuals\n",
      "\n",
      "A group-wise model tells you the model value for each group. There is additional information that you will want to generate about models. Two fundamental aspects of a model are the 'fitted' model values for each case and the 'residual' for each case. To make it easy to do these calculations, Python has a set of modeling functions from the 'statsmodels' library that helps keep track of the data used in creating and fitting models. Later tutorials will introduce the `ols()` function more thouroughly - ordinary least squares - that is central to statistical modeling. \n",
      "\n",
      "For now, we will use `ols()` to create a simple model based on groupwise means, and worry about all the additional diagnostics and summary statistics later."
     ]
    },
    {
     "cell_type": "markdown",
     "metadata": {},
     "source": [
      "<span class=\"note left shadow\">\n",
      "From a very young age, shoes for boys tend to be wider than shoes for girls. Is this because boys have wider feet, or because it is assumed that girls are willing to sacrifice comfort for fashion, even in elementary school? To assess the former, Mary C. Meyer, a statistician from Arbor, MI [measured kids' feet](http://www.amstat.org/publications/jse/v14n1/datasets.meyer.html) in a fourth grade classroom back in October 1997. Her ultimate goal was to answer the question: \"do boys have wider feet than girls?\". We are going to work with this data throughout these tutorials to build simple models and test for various statistical relationships.\n",
      "</span>\n",
      "\n",
      "<span class=\"dataset shadow\"><i class=\"icon-flag\" style=\"font-size: 1.5em;\"></i> `kidsfeet.csv`</span>"
     ]
    },
    {
     "cell_type": "code",
     "collapsed": false,
     "input": [
      "import statsmodels.formula.api as sm # import statsmodels\n",
      "kids = pd.read_csv(\"http://www.mosaic-web.org/go/datasets/kidsfeet.csv\")"
     ],
     "language": "python",
     "metadata": {},
     "outputs": [],
     "prompt_number": 40
    },
    {
     "cell_type": "code",
     "collapsed": false,
     "input": [
      "mod = sm.ols(formula='width ~ sex -1', df=kids).fit()\n",
      "mod.params"
     ],
     "language": "python",
     "metadata": {},
     "outputs": [
      {
       "output_type": "pyout",
       "prompt_number": 50,
       "text": [
        "sex[B]    9.190000\n",
        "sex[G]    8.784211\n",
        "dtype: float64"
       ]
      }
     ],
     "prompt_number": 50
    },
    {
     "cell_type": "markdown",
     "metadata": {},
     "source": [
      "Note the use of the `~` (pronounced \"tilde\") notation above. You will be using this notation frequently in building models. It means, \"model by\", \"broken down by\", \"versus\", or \"as a function of\"."
     ]
    },
    {
     "cell_type": "markdown",
     "metadata": {},
     "source": [
      "The `fittedvalues` attribute of a model, such as generated by `ols().fit()`, returns the fitted model value for each case in the data used to fit the model. To do this, the model takes each case in turn, figures out which group it belongs to and the corresponding model value, and then returns the set of model value for each of the cases. For example:"
     ]
    },
    {
     "cell_type": "code",
     "collapsed": false,
     "input": [
      "mod.fittedvalues.values # use `values` attribute to return simple array of fitted model values"
     ],
     "language": "python",
     "metadata": {},
     "outputs": [
      {
       "output_type": "pyout",
       "prompt_number": 52,
       "text": [
        "array([ 9.19      ,  9.19      ,  9.19      ,  9.19      ,  9.19      ,\n",
        "        9.19      ,  9.19      ,  8.78421053,  8.78421053,  9.19      ,\n",
        "        9.19      ,  9.19      ,  9.19      ,  9.19      ,  8.78421053,\n",
        "        8.78421053,  8.78421053,  8.78421053,  8.78421053,  8.78421053,\n",
        "        9.19      ,  9.19      ,  8.78421053,  8.78421053,  8.78421053,\n",
        "        9.19      ,  8.78421053,  9.19      ,  9.19      ,  9.19      ,\n",
        "        8.78421053,  8.78421053,  8.78421053,  9.19      ,  9.19      ,\n",
        "        8.78421053,  8.78421053,  8.78421053,  8.78421053])"
       ]
      }
     ],
     "prompt_number": 52
    },
    {
     "cell_type": "markdown",
     "metadata": {},
     "source": [
      "The residuals are found by subtracting the case-by-case model value from the actual values for each case. This is accomplished by the `resid` attribute of the `mod` model, which works in much the same way as `fitted`:"
     ]
    },
    {
     "cell_type": "code",
     "collapsed": false,
     "input": [
      "mod.resid.values # again, use `values` to return simple array of residuals"
     ],
     "language": "python",
     "metadata": {},
     "outputs": [
      {
       "output_type": "pyout",
       "prompt_number": 54,
       "text": [
        "array([-0.79      , -0.39      ,  0.51      ,  0.61      , -0.29      ,\n",
        "        0.51      ,  0.41      ,  0.01578947,  0.51578947, -0.39      ,\n",
        "        0.61      , -0.29      , -0.09      ,  0.61      ,  0.51578947,\n",
        "       -0.88421053, -0.08421053,  0.01578947,  0.21578947,  0.71578947,\n",
        "        0.01      , -0.59      , -0.48421053,  0.21578947, -0.68421053,\n",
        "        0.21      ,  0.71578947,  0.31      , -0.29      ,  0.11      ,\n",
        "        0.51578947, -0.18421053, -0.18421053, -0.19      , -0.59      ,\n",
        "       -0.28421053,  0.21578947, -0.88421053,  0.01578947])"
       ]
      }
     ],
     "prompt_number": 54
    },
    {
     "cell_type": "markdown",
     "metadata": {},
     "source": [
      "For each case, adding the residual to the fitted value will produce the value of the response variable.\n",
      "\n",
      "The `var()` function calculates variance. There is a simple additive relationship among the variances of the response variable, the model's fitted values, and the corresponding residual values:"
     ]
    },
    {
     "cell_type": "code",
     "collapsed": false,
     "input": [
      "kids.width.var()"
     ],
     "language": "python",
     "metadata": {},
     "outputs": [
      {
       "output_type": "pyout",
       "prompt_number": 55,
       "text": [
        "0.25967611336032431"
       ]
      }
     ],
     "prompt_number": 55
    },
    {
     "cell_type": "code",
     "collapsed": false,
     "input": [
      "mod.fittedvalues.var()"
     ],
     "language": "python",
     "metadata": {},
     "outputs": [
      {
       "output_type": "pyout",
       "prompt_number": 56,
       "text": [
        "0.042221819731342917"
       ]
      }
     ],
     "prompt_number": 56
    },
    {
     "cell_type": "code",
     "collapsed": false,
     "input": [
      "mod.resid.var()"
     ],
     "language": "python",
     "metadata": {},
     "outputs": [
      {
       "output_type": "pyout",
       "prompt_number": 57,
       "text": [
        "0.21745429362880894"
       ]
      }
     ],
     "prompt_number": 57
    },
    {
     "cell_type": "markdown",
     "metadata": {},
     "source": [
      "The variance of the response variable is equal to the variance of the fitted values *and* the variance of the residuals. Below, we show this (response var equal to fitted var plus residual var), with rounding to 8 significant digits to avoid numerical roundoff errors:"
     ]
    },
    {
     "cell_type": "code",
     "collapsed": false,
     "input": [
      "kids.width.var().round(8) == (mod.fittedvalues.var() + mod.resid.var()).round(8)"
     ],
     "language": "python",
     "metadata": {},
     "outputs": [
      {
       "output_type": "pyout",
       "prompt_number": 64,
       "text": [
        "True"
       ]
      }
     ],
     "prompt_number": 64
    },
    {
     "cell_type": "markdown",
     "metadata": {},
     "source": [
      "### Next time on, Statistical Modeling: A Fresh Approach for Python...\n",
      "\n",
      "* **Confidence Intervals**\n",
      "\n",
      "### Reference\n",
      "\n",
      "As with all 'Statistical Modeling: A Fresh Approach for Python' tutorials, this tutorial is based directly on material from ['Statistical Modeling: A Fresh Approach (2nd Edition)'][book] by [Daniel Kaplan][daniel-kaplan].\n",
      "\n",
      "I have made an effort to keep the text and explanations consistent between the original (R-based) version and the Python tutorials, in order to keep things comparable. With that in mind, any errors, omissions, and/or differences between the two versions are mine, and any questions, comments, and/or concerns should be [directed to me][].\n",
      "\n",
      "[book]: http://www.mosaic-web.org/go/StatisticalModeling/\n",
      "[daniel-kaplan]: http://www.macalester.edu/~kaplan/\n",
      "[cases-variables-samples]: smafafp-data/\n",
      "[directed to me]: mailto:carson.farmer@hunter.cuny.edu"
     ]
    }
   ],
   "metadata": {}
  }
 ]
}