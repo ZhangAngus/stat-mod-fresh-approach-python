{
 "metadata": {
  "name": ""
 },
 "nbformat": 3,
 "nbformat_minor": 0,
 "worksheets": [
  {
   "cells": [
    {
     "cell_type": "raw",
     "metadata": {},
     "source": [
      "Title: Modeling Randomness\n",
      "Date: 2013-10-05 17:05\n",
      "Author: cfarmer\n",
      "Email: carson.farmer@gmail.com\n",
      "Category: Statistical Modeling for Python\n",
      "Tags: Helpful tips, Python, Statistical Modeling, Teaching\n",
      "Slug: statistical-modeling-python-modeling-randomness\n",
      "Latex: yes\n",
      "Status: draft"
     ]
    },
    {
     "cell_type": "markdown",
     "metadata": {},
     "source": [
      "# Modeling Randomness\n",
      "\n",
      "One of the most surprizing outcomes of the revolution in computing technology has been the discovery of diverse uses for randomness in the analysis of data and in science generally. Most young people have little trouble with the idea of a computer generating random data; they see it in computer games and simulations. Older people, raised with the idea that computers do mathematical operations and that such operations are completely deterministic, sometimes find computer-generated random numbers suspect. Indeed, conventional algebraic notation ($+$, $-$, $\\sqrt{}$, $\\cos{}$, and so on) has no notation for \"generated at random\".\n",
      "\n",
      "One of the simplest operators for generating random events is `numpy.random.choice`. This takes several arguments: the first being a set of items (`a`) to choose from, and the second being the number of events (`size`) to generate. Each item is equally likely to be chosen. For example, here is a simulation of a coin flip:"
     ]
    },
    {
     "cell_type": "code",
     "collapsed": false,
     "input": [
      "from numpy.random import choice\n",
      "coin = [\"H\", \"T\"]\n",
      "choice(coin, 5)"
     ],
     "language": "python",
     "metadata": {},
     "outputs": [
      {
       "metadata": {},
       "output_type": "pyout",
       "prompt_number": 4,
       "text": [
        "array(['H', 'T', 'T', 'H', 'H'], \n",
        "      dtype='|S1')"
       ]
      }
     ],
     "prompt_number": 4
    },
    {
     "cell_type": "code",
     "collapsed": false,
     "input": [
      "choice(coin, 5)"
     ],
     "language": "python",
     "metadata": {},
     "outputs": [
      {
       "metadata": {},
       "output_type": "pyout",
       "prompt_number": 5,
       "text": [
        "array(['H', 'H', 'T', 'H', 'H'], \n",
        "      dtype='|S1')"
       ]
      }
     ],
     "prompt_number": 5
    },
    {
     "cell_type": "markdown",
     "metadata": {},
     "source": [
      "The first command imports the function `choice` from the `numpy.random` module, and the second command creates an object (a `list`) holding the possible outcome of each event, called `coin`. The next command generated five events, each event being a random choice of the outcomes in `coin`.\n",
      "\n",
      "Another example is rolling dice. First, construct a set of the possible outcomes:"
     ]
    },
    {
     "cell_type": "code",
     "collapsed": false,
     "input": [
      "die = range(1,7)\n",
      "die"
     ],
     "language": "python",
     "metadata": {},
     "outputs": [
      {
       "metadata": {},
       "output_type": "pyout",
       "prompt_number": 8,
       "text": [
        "[1, 2, 3, 4, 5, 6]"
       ]
      }
     ],
     "prompt_number": 8
    },
    {
     "cell_type": "markdown",
     "metadata": {},
     "source": [
      "Then generate random events. Here is a roll of two dice:"
     ]
    },
    {
     "cell_type": "code",
     "collapsed": false,
     "input": [
      "choice(die, 2)"
     ],
     "language": "python",
     "metadata": {},
     "outputs": [
      {
       "metadata": {},
       "output_type": "pyout",
       "prompt_number": 9,
       "text": [
        "array([1, 2])"
       ]
      }
     ],
     "prompt_number": 9
    },
    {
     "cell_type": "markdown",
     "metadata": {},
     "source": [
      "The `choice` function is also useful for selecting cases at random from a data frame. This use will be the basis for statistical methods introduced in later chapters."
     ]
    },
    {
     "cell_type": "markdown",
     "metadata": {},
     "source": [
      "## Random Draws for Probability Models\n",
      "\n",
      "Although `choice` is useful for random sampling, it can work only with finite sets of possible outcomes, such as `H/T` or `1/2/3/4/5/6` or the cases in a data frame. By default in `choice`, the underlying probability model is **equiprobability** - each possible outcome is equally likely. You can specify another probability model by using the `p=` argument to `choice`, which controls probabilities associated with each entry in `a`. For instance, to flip coins that are very likely to come up heads:"
     ]
    },
    {
     "cell_type": "code",
     "collapsed": false,
     "input": [
      "choice(coin, 10, p=[0.9, 0.1])"
     ],
     "language": "python",
     "metadata": {},
     "outputs": [
      {
       "metadata": {},
       "output_type": "pyout",
       "prompt_number": 13,
       "text": [
        "array(['T', 'H', 'H', 'H', 'H', 'H', 'T', 'T', 'H', 'H'], \n",
        "      dtype='|S1')"
       ]
      }
     ],
     "prompt_number": 13
    },
    {
     "cell_type": "markdown",
     "metadata": {},
     "source": [
      "Python and Scipy provides other operators that allow draws to be made from outcome sets that are infinite.\n",
      "\n",
      "For example, `norm` from the `scipy.stats` module returns a normal continuous random variable from which random draws from a normal probability distribution can be made (using `norm.rvs()`). The arguments to `norm.rvs` let you specify the mean (`loc=`) and standard deviation (`scale=`) of the particular normal distribution that you want, and the `size` argument specifies how many draws to make. To illustrate, here is a set of 15 random numbers from a normal distribution with a mean of 1000 and a standard deviation of 75:"
     ]
    },
    {
     "cell_type": "code",
     "collapsed": false,
     "input": [
      "from scipy.stats import norm\n",
      "samps = norm.rvs(loc=1000, scale=75, size=15)\n",
      "samps"
     ],
     "language": "python",
     "metadata": {},
     "outputs": [
      {
       "metadata": {},
       "output_type": "pyout",
       "prompt_number": 20,
       "text": [
        "array([ 1019.79796434,   993.84890674,   880.38305582,   913.01814583,\n",
        "         941.81574239,  1082.1391777 ,  1028.0528797 ,   938.16469329,\n",
        "        1086.1622266 ,   961.97899718,  1013.02887874,   987.75245943,\n",
        "         904.10582853,  1136.39536813,   952.81042028])"
       ]
      }
     ],
     "prompt_number": 20
    },
    {
     "cell_type": "markdown",
     "metadata": {},
     "source": [
      "In this example, the output was assigned to an object `samps` to facilitate some additional computations to the values. For instance, here is the mean and standard deviation of the sample:"
     ]
    },
    {
     "cell_type": "code",
     "collapsed": false,
     "input": [
      "samps.mean()"
     ],
     "language": "python",
     "metadata": {},
     "outputs": [
      {
       "metadata": {},
       "output_type": "pyout",
       "prompt_number": 22,
       "text": [
        "989.29698298120923"
       ]
      }
     ],
     "prompt_number": 22
    },
    {
     "cell_type": "code",
     "collapsed": false,
     "input": [
      "samps.std()"
     ],
     "language": "python",
     "metadata": {},
     "outputs": [
      {
       "metadata": {},
       "output_type": "pyout",
       "prompt_number": 23,
       "text": [
        "70.49533293053193"
       ]
      }
     ],
     "prompt_number": 23
    },
    {
     "cell_type": "markdown",
     "metadata": {},
     "source": [
      "Don't be surprised that the mean and standard deviation of the sample don't match exactly the parameters that were set with the arguments `loc=1000, scale=75`. The sample was drawn at random and so the sample statistics are going to vary from one sample to the next. Part of the statistical methodology to be studied in later tutorials has to do with determining how close the statistics calculated from a sample are likely to be to the parameters of the underlying population.\n",
      "\n",
      "Often you will generate very large samples. In these situations you usually don't want to display all of the samples, just do calculations with them. The practical limits of \"large\" depend on the computer you are using and how much time you are willing to wait for the computer to perform the calculations. For a function like `norm.rvs` and the others to be introduced in this chapter, it's feasible to generate samples of size 10,000 or 100,000 on an ordinary laptop computer.m"
     ]
    },
    {
     "cell_type": "code",
     "collapsed": false,
     "input": [
      "samps = norm.rvs(1000, 75, size=100000)\n",
      "samps.mean()"
     ],
     "language": "python",
     "metadata": {},
     "outputs": [
      {
       "metadata": {},
       "output_type": "pyout",
       "prompt_number": 24,
       "text": [
        "1000.0807598989297"
       ]
      }
     ],
     "prompt_number": 24
    },
    {
     "cell_type": "code",
     "collapsed": false,
     "input": [
      "samps.std()"
     ],
     "language": "python",
     "metadata": {},
     "outputs": [
      {
       "metadata": {},
       "output_type": "pyout",
       "prompt_number": 25,
       "text": [
        "74.986186438984689"
       ]
      }
     ],
     "prompt_number": 25
    },
    {
     "cell_type": "markdown",
     "metadata": {},
     "source": [
      "Notice that the sample mean and standard deviation are quite close to the population parameters in this large sample (remember not to put commas in as puctuation in large numbers: it's `100000` not 100,000).\n",
      " \n",
      "The simulations that you will do in later tutorials will be much more elaborate than the simple draws here. Even with today's computers, you will want to use only a few hundred trials."
     ]
    },
    {
     "cell_type": "markdown",
     "metadata": {},
     "source": [
      "## Standard Probability Models\n",
      "\n",
      "Python and Scipy provides a set of modules like `norm` for different probability models in the `scipy.stats` module. All of these probability models work in a similar way:\n",
      "\n",
      "* Each has a set of parameters that specify the particular probability distribution you want\n",
      "* Each has an `rvs` function that allows random draws to be made\n",
      "\n",
      "All probability models can be found in the `scipy.stats` module, and each one has a different set of parameters that need to be specified.\n",
      "\n",
      "<span class=\"note left shadow\" markdown=\"1\">\n",
      "A useful reference for comparison between Matlab, R, and Python probability models can be [found here][reference]. It is also useful for determining which parameters are required for generating random variates etc.\n",
      "</span>\n",
      "\n",
      "Family | Module | Parameters | Type\n",
      "------ | ------ | ---------- | ----\n",
      "[Normal][norm] | `norm` | `loc` (mean), `scale` (std dev) | continuous\n",
      "[Uniform][uniform] | `uniform` | `loc` (min), `scale` (max) | continuous\n",
      "[Binomial][binom] | `binom` | `n` (size), `p` (probability) | discrete\n",
      "[Poisson][poisson] | `poisson` | `mu` (mean rate [lambda]) | discrete\n",
      "[Exponential][expon] | `expon` | `scale` (1.0/lambda) | continuous\n",
      "[Lognormal][lognorm] | `lognorm` | `s` (std dev), `loc` (mean) | continuous\n",
      "[$\\chi^2$ (Chi-squared)][chi2] | `chi2` | `df` (deg. of freedom) | continuous\n",
      "[Student's t][t] | `t` | `df` (deg. freedom) | continuous\n",
      "[Snedecor's F][f] | `f` | `dfn` (df numerator), (df denominator) | continuous\n",
      "\n",
      "[reference]: http://hyperpolyglot.org/numerical-analysis#distributions\n",
      "[norm]: http://docs.scipy.org/doc/scipy/reference/generated/scipy.stats.norm.html\n",
      "[uniform]: http://docs.scipy.org/doc/scipy/reference/generated/scipy.stats.uniform.html\n",
      "[binom]: http://docs.scipy.org/doc/scipy/reference/generated/scipy.stats.binom.html\n",
      "[poisson]: http://docs.scipy.org/doc/scipy/reference/generated/scipy.stats.poisson.html\n",
      "[expon]: http://docs.scipy.org/doc/scipy/reference/generated/scipy.stats.expon.html\n",
      "[lognorm]: http://docs.scipy.org/doc/scipy/reference/generated/scipy.stats.lognorm.html\n",
      "[chi2]: http://docs.scipy.org/doc/scipy/reference/generated/scipy.stats.expon.html\n",
      "[t]: http://docs.scipy.org/doc/scipy/reference/generated/scipy.stats.t.html\n",
      "[f]: http://docs.scipy.org/doc/scipy/reference/generated/scipy.stats.f.html\n",
      "\n",
      "To use the random number generators effectively, you first much choose a particular probability model based on the setting that applies in your situation. This setting will usually indicate what the population parameters should be. Some examples:"
     ]
    },
    {
     "cell_type": "code",
     "collapsed": false,
     "input": [
      "# Load several useful probability models\n",
      "from scipy.stats import uniform, norm, binom, poisson, expon, lognorm, chi2, t, f"
     ],
     "language": "python",
     "metadata": {},
     "outputs": [],
     "prompt_number": 31
    },
    {
     "cell_type": "markdown",
     "metadata": {},
     "source": [
      "**1)** You are in charge of a hiring committee that is going to interview three candidates selected from a population of job applicants that is 63\\% female. How many of the interviewees will be female? Modeling this as a random selection from the applicant pool, a binomial model is appropriate. The size of each trial is 3 (i.e., `n=3`), and the probability of being female is 63\\% (i.e., `p=0.63`):"
     ]
    },
    {
     "cell_type": "code",
     "collapsed": false,
     "input": [
      "    from scipy.stats import binom\n",
      "    samps = binom.rvs(3, 0.63, size=40)\n",
      "    samps"
     ],
     "language": "python",
     "metadata": {},
     "outputs": [
      {
       "metadata": {},
       "output_type": "pyout",
       "prompt_number": 44,
       "text": [
        "array([1, 3, 2, 0, 1, 1, 1, 2, 1, 2, 2, 2, 2, 2, 1, 3, 0, 1, 2, 1, 3, 1, 2,\n",
        "       2, 1, 2, 2, 2, 2, 2, 1, 1, 0, 3, 3, 1, 0, 2, 2, 1])"
       ]
      }
     ],
     "prompt_number": 44
    },
    {
     "cell_type": "markdown",
     "metadata": {},
     "source": [
      "There are 40 trials here, since `size` argument was set to 40. Remember, each of the trials is a simulation of one hiring event. In the first simulated event, two of the interviewees were female; in the third only one was female. Typically, you will be summarizing all the simulations, for example, to see how likely each possible outcome is."
     ]
    },
    {
     "cell_type": "code",
     "collapsed": false,
     "input": [
      "import pandas as pd\n",
      "pd.Series(samps).value_counts()"
     ],
     "language": "python",
     "metadata": {},
     "outputs": [
      {
       "metadata": {},
       "output_type": "pyout",
       "prompt_number": 43,
       "text": [
        "2    23\n",
        "1    10\n",
        "3     6\n",
        "0     1\n",
        "dtype: int64"
       ]
      }
     ],
     "prompt_number": 43
    },
    {
     "cell_type": "markdown",
     "metadata": {},
     "source": [
      "**2)** You want to simulate the number of customers who come into a store over the course of an hour. The average rate is 15 per hour. To simulate a situation where customers arrive randomly, the Poisson model is appropriate:"
     ]
    },
    {
     "cell_type": "code",
     "collapsed": false,
     "input": [
      "from scipy.stats import poisson\n",
      "poisson.rvs(15, size=25)"
     ],
     "language": "python",
     "metadata": {},
     "outputs": [
      {
       "metadata": {},
       "output_type": "pyout",
       "prompt_number": 46,
       "text": [
        "array([12, 17,  9, 12, 21, 15, 16, 12,  8, 21, 15, 15, 12,  8, 13, 16, 21,\n",
        "       16, 18, 13, 13, 19, 15, 19, 18])"
       ]
      }
     ],
     "prompt_number": 46
    },
    {
     "cell_type": "markdown",
     "metadata": {},
     "source": [
      "**3)** You want to generate a simulation of the interval between earthquakes as in Example 11.5.4 from the [book][book]. To simulate the random intervals with a typical rate of 0.03 earthquakes per year, you would use:\n",
      "\n",
      "[book]: http://www.mosaic-web.org/go/StatisticalModeling/"
     ]
    },
    {
     "cell_type": "code",
     "collapsed": false,
     "input": [
      "from scipy.stats import expon\n",
      "expon.rvs(scale=1.0/0.03, size=15)"
     ],
     "language": "python",
     "metadata": {},
     "outputs": [
      {
       "metadata": {},
       "output_type": "pyout",
       "prompt_number": 50,
       "text": [
        "array([ 15.86444614,  16.85881696,  35.01553743,  24.7432013 ,\n",
        "        39.02067078,  29.99499166,  31.59646041,   0.44506101,\n",
        "        29.60265513,  22.45041553,   8.08170478,  49.81936582,\n",
        "        27.54049465,  54.51531863,  23.3166474 ])"
       ]
      }
     ],
     "prompt_number": 50
    },
    {
     "cell_type": "markdown",
     "metadata": {},
     "source": [
      "Notice the huge variation in the intervals!"
     ]
    },
    {
     "cell_type": "markdown",
     "metadata": {},
     "source": [
      "## Coverage Intervals\n",
      "\n",
      "You will often need to compute intervals in order to describe the range of likely outcomes from a random process. Python and Scipy provide a series of functions for this purpose; one for each named probability model. The functions are called `ppf`, standing for percent point function (percentiles). In all cases, the first argument is the set of percentiles (`q`) you want to calculate for the particular probability model. The other named arguments are the parameters.\n",
      "\n",
      "Remember that to find a 95% coverage interval you need the 0.025 and 0.975 quantiles. For a 99% interval, you need the 0.005 and 0.995 quantiles. To illustrate, here are the 95% coverage intervals for a few probability models:"
     ]
    },
    {
     "cell_type": "markdown",
     "metadata": {},
     "source": [
      "* A normal distribution with mean 0 and standard deviation 1:"
     ]
    },
    {
     "cell_type": "code",
     "collapsed": false,
     "input": [
      "norm.ppf([0.025, 0.975], 0, 1)"
     ],
     "language": "python",
     "metadata": {},
     "outputs": [
      {
       "metadata": {},
       "output_type": "pyout",
       "prompt_number": 55,
       "text": [
        "array([-1.95996398,  1.95996398])"
       ]
      }
     ],
     "prompt_number": 55
    },
    {
     "cell_type": "markdown",
     "metadata": {},
     "source": [
      "* The hiring committee situation modelled by a binomial distribution with `n=3` and `p=0.63`:\n",
      "\n",
      "<span class=\"note left shadow\"  markdown=\"1\">\n",
      "Perhaps you are suprised to see that the coverage interval includes all the possible outcomes. That's because the number of cases in each trial $(n=3)$ is quite small.\n",
      "</span>"
     ]
    },
    {
     "cell_type": "code",
     "collapsed": false,
     "input": [
      "binom.ppf([0.025, 0.975], 3, 0.63)"
     ],
     "language": "python",
     "metadata": {},
     "outputs": [
      {
       "metadata": {},
       "output_type": "pyout",
       "prompt_number": 56,
       "text": [
        "array([ 0.,  3.])"
       ]
      }
     ],
     "prompt_number": 56
    },
    {
     "cell_type": "markdown",
     "metadata": {},
     "source": [
      "* The numbr of customers entering a store during an hour as modelled by a Poisson distribution with an average rate of 15 customers per hour:"
     ]
    },
    {
     "cell_type": "code",
     "collapsed": false,
     "input": [
      "poisson.ppf([0.025, 0.975], 15)"
     ],
     "language": "python",
     "metadata": {},
     "outputs": [
      {
       "metadata": {},
       "output_type": "pyout",
       "prompt_number": 65,
       "text": [
        "array([  8.,  23.])"
       ]
      }
     ],
     "prompt_number": 65
    },
    {
     "cell_type": "markdown",
     "metadata": {},
     "source": [
      "* The interval between earthquakes modelled by an exponential distribution with a typical rate of 0.03 earthquakes per year:"
     ]
    },
    {
     "cell_type": "code",
     "collapsed": false,
     "input": [
      "expon.ppf([0.025, 0.975], scale=1.0/0.03)"
     ],
     "language": "python",
     "metadata": {},
     "outputs": [
      {
       "metadata": {},
       "output_type": "pyout",
       "prompt_number": 63,
       "text": [
        "array([   0.84392693,  122.96264847])"
       ]
      }
     ],
     "prompt_number": 63
    },
    {
     "cell_type": "markdown",
     "metadata": {},
     "source": [
      "You can also use the `ppf` methods to find the value that would be at a particular percentile. For example, the exponential model with a rate of 0.03 gives the 25th percentile of the interval between earthquakes as:"
     ]
    },
    {
     "cell_type": "code",
     "collapsed": false,
     "input": [
      "expon.ppf(0.25, scale=1.0/0.03)"
     ],
     "language": "python",
     "metadata": {},
     "outputs": [
      {
       "metadata": {},
       "output_type": "pyout",
       "prompt_number": 66,
       "text": [
        "9.5894024150593644"
       ]
      }
     ],
     "prompt_number": 66
    },
    {
     "cell_type": "markdown",
     "metadata": {},
     "source": [
      "A quarter of the time, the interval between earthquakes will be 9.59 years or less.\n",
      "\n",
      "It's entirely feasible to calculate percentiles and coverage intervals by combining the random number generators with the methods to compute quantiles presented in previous tutorials. For example, here is the 95\\% coverage interval from a normal distribution with mean 0 and standard deviation 1:"
     ]
    },
    {
     "cell_type": "code",
     "collapsed": false,
     "input": [
      "samps = norm.rvs(loc=0, scale=1, size=10000)\n",
      "[pd.Series(samps).quantile(q) for q in [.025, .975]]"
     ],
     "language": "python",
     "metadata": {},
     "outputs": [
      {
       "metadata": {},
       "output_type": "pyout",
       "prompt_number": 67,
       "text": [
        "[-1.9637144782958194, 1.9671117119775101]"
       ]
      }
     ],
     "prompt_number": 67
    },
    {
     "cell_type": "markdown",
     "metadata": {},
     "source": [
      "The disadvantage of this approach is that it is a simulation and the results will vary randomly. By making the sample size large enough - here it is $n = 10000$ - you can reduce the random variation. Using the `ppf` methods uses mathematical analysis to give you what is effectively an infinite sample size. For this reason, it's advisable to use the `ppf` methods when you can. However, for many of the techniques to be introduced in later tutorials you will have to generate a random sample then apply `Series.quantile` or similar to approximate the coverage intervals."
     ]
    },
    {
     "cell_type": "markdown",
     "metadata": {},
     "source": [
      "## Cumulative Probability\n",
      "\n",
      "A cumulative probability computation applies to situations where you have a measured value and you want to know where that value ranks relative to the entire set of possible outcomes. You have already seen cumulative probabilities computed from samples; they also apply to probability models. The word \"cumulative\" is used because the probability reflects the change of seeing a particular value or *smaller*. Python and Scipy provide a cumulative density function (`cdf`) to compute cumulative probabilities on each named probability model.\n",
      "\n",
      "It's easy to confuse cumulative probabilities with percentiles because they are so closely related. Mathematically, the cumulative probability functions are the inverse of the percentile operators, To help you remember which is which, it's helpful to distinguish the based on the type of argument thta you give to the function:\n",
      "\n",
      "**Cumulative Probability** The input argument is a measured value, something that could be the output of a single draw from the probability distribution. The output is always a number between 0 and 1 - a probability.\n",
      "\n",
      "**Percentile** The input is a cumulative probability, a number between 0 and 1. The output is on the scale of the measured variable.\n",
      "\n",
      "Example: You have just gotten your score, 670, on a professional school admissions test. According to the information published by the testing company, the scores are normally distributed with a mean of 600 and a standard deviation of 100. So, your ranking on the test, as indicated by a cumulative probability, is:"
     ]
    },
    {
     "cell_type": "code",
     "collapsed": false,
     "input": [
      "norm.cdf(670, loc=600, scale=100)"
     ],
     "language": "python",
     "metadata": {},
     "outputs": [
      {
       "metadata": {},
       "output_type": "pyout",
       "prompt_number": 68,
       "text": [
        "0.75803634777692697"
       ]
      }
     ],
     "prompt_number": 68
    },
    {
     "cell_type": "markdown",
     "metadata": {},
     "source": [
      "Your score is at about the 75th percentile.\n",
      "\n",
      "Example: Unfortunately, the professional school that you want to go to accepts only students with score in the top 15 percent. Your score, at 75.8%, isn't good enough. So, you still study some more and take practice tests until your score is good enough. How well will you need to score to reach the 85th percentile?"
     ]
    },
    {
     "cell_type": "code",
     "collapsed": false,
     "input": [
      "norm.ppf(0.85, loc=600, scale=100)"
     ],
     "language": "python",
     "metadata": {},
     "outputs": [
      {
       "metadata": {},
       "output_type": "pyout",
       "prompt_number": 69,
       "text": [
        "703.64333894937897"
       ]
      }
     ],
     "prompt_number": 69
    },
    {
     "cell_type": "markdown",
     "metadata": {},
     "source": [
      "### Next time on, Statistical Modeling: A Fresh Approach for Python...\n",
      "\n",
      "* **Confidence in Models**\n",
      "\n",
      "### Reference\n",
      "\n",
      "As with all 'Statistical Modeling: A Fresh Approach for Python' tutorials, this tutorial is based directly on material from ['Statistical Modeling: A Fresh Approach (2nd Edition)'][book] by [Daniel Kaplan][daniel-kaplan].\n",
      "\n",
      "I have made an effort to keep the text and explanations consistent between the original (R-based) version and the Python tutorials, in order to keep things comparable. With that in mind, any errors, omissions, and/or differences between the two versions are mine, and any questions, comments, and/or concerns should be [directed to me][].\n",
      "\n",
      "[book]: http://www.mosaic-web.org/go/StatisticalModeling/\n",
      "[daniel-kaplan]: http://www.macalester.edu/~kaplan/\n",
      "[directed to me]: mailto:carson.farmer@hunter.cuny.edu"
     ]
    }
   ],
   "metadata": {}
  }
 ]
}