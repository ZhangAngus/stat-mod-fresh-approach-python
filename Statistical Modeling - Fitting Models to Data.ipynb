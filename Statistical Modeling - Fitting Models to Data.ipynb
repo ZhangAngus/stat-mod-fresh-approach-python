{
 "metadata": {
  "name": ""
 },
 "nbformat": 3,
 "nbformat_minor": 0,
 "worksheets": [
  {
   "cells": [
    {
     "cell_type": "raw",
     "metadata": {},
     "source": [
      "Title: Fitting Models to Data\n",
      "Date: 2013-10-01 12:00\n",
      "Author: cfarmer\n",
      "Email: carson.farmer@gmail.com\n",
      "Category: Statistical Modeling for Python\n",
      "Tags: Helpful tips, Python, Statistical Modeling, Teaching\n",
      "Slug: statistical-modeling-python-fitting-models\n",
      "Latex: yes\n",
      "Status: draft"
     ]
    },
    {
     "cell_type": "markdown",
     "metadata": {},
     "source": [
      "# Fitting Models to Data\n",
      "\n",
      "Using the `ols` function from the 'statsmodels' library is largely a matter of familiarity with the model design language described in Chapter 6 of ['Statistical Modeling: A Fresh Approach (2nd Edition)'][book]. Computing the fitted model values and the residuals is done with the `fittedvalues` and `resid` attributes of the fitted model object. To illustrate:\n",
      "\n",
      "[book]: http://www.mosaic-web.org/go/StatisticalModeling/\n",
      "\n",
      "<span class=\"dataset shadow\"><i class=\"icon-flag\" style=\"font-size: 1.5em;\"></i> `swim100m.csv`</span>"
     ]
    },
    {
     "cell_type": "code",
     "collapsed": false,
     "input": [
      "import pandas as pd\n",
      "import statsmodels.formula.api as sm\n",
      "\n",
      "swim = pd.read_csv(\"http://www.mosaic-web.org/go/datasets/swim100m.csv\")\n",
      "mod = sm.ols(\"time ~ year + sex\", df=swim)\n",
      "fit = mod.fit()\n",
      "fit.params"
     ],
     "language": "python",
     "metadata": {},
     "outputs": [
      {
       "metadata": {},
       "output_type": "pyout",
       "prompt_number": 1,
       "text": [
        "Intercept    555.716783\n",
        "sex[T.M]      -9.797961\n",
        "year          -0.251464\n",
        "dtype: float64"
       ]
      }
     ],
     "prompt_number": 1
    },
    {
     "cell_type": "markdown",
     "metadata": {},
     "source": [
      "Once you have contructed and fitted the model, you can use the `fittedvalues` and `resid` attributes of the fitted model - here named `fit`:"
     ]
    },
    {
     "cell_type": "code",
     "collapsed": false,
     "input": [
      "fit.fittedvalues.head() # There are 62 cases altogether"
     ],
     "language": "python",
     "metadata": {},
     "outputs": [
      {
       "metadata": {},
       "output_type": "pyout",
       "prompt_number": 3,
       "text": [
        "0    66.880509\n",
        "1    66.126118\n",
        "2    65.623190\n",
        "3    65.120263\n",
        "4    63.611481\n",
        "dtype: float64"
       ]
      }
     ],
     "prompt_number": 3
    },
    {
     "cell_type": "code",
     "collapsed": false,
     "input": [
      "fit.resid.head() # There are 62 cases altogether"
     ],
     "language": "python",
     "metadata": {},
     "outputs": [
      {
       "metadata": {},
       "output_type": "pyout",
       "prompt_number": 5,
       "text": [
        "0   -1.080509\n",
        "1   -0.526118\n",
        "2   -2.823190\n",
        "3   -3.520263\n",
        "4   -2.211481\n",
        "dtype: float64"
       ]
      }
     ],
     "prompt_number": 5
    },
    {
     "cell_type": "markdown",
     "metadata": {},
     "source": [
      "## Sums of Squares\n",
      "\n",
      "Computations can be performed on the fitted model values and the residuals, just like any other quantity:"
     ]
    },
    {
     "cell_type": "code",
     "collapsed": false,
     "input": [
      "fit.fittedvalues.mean()"
     ],
     "language": "python",
     "metadata": {},
     "outputs": [
      {
       "metadata": {},
       "output_type": "pyout",
       "prompt_number": 7,
       "text": [
        "59.924193548199447"
       ]
      }
     ],
     "prompt_number": 7
    },
    {
     "cell_type": "code",
     "collapsed": false,
     "input": [
      "fit.resid.var()"
     ],
     "language": "python",
     "metadata": {},
     "outputs": [
      {
       "metadata": {},
       "output_type": "pyout",
       "prompt_number": 12,
       "text": [
        "15.341465142410016"
       ]
      }
     ],
     "prompt_number": 12
    },
    {
     "cell_type": "code",
     "collapsed": false,
     "input": [
      "fit.resid.std()"
     ],
     "language": "python",
     "metadata": {},
     "outputs": [
      {
       "metadata": {},
       "output_type": "pyout",
       "prompt_number": 11,
       "text": [
        "3.9168182421973596"
       ]
      }
     ],
     "prompt_number": 11
    },
    {
     "cell_type": "code",
     "collapsed": false,
     "input": [
      "fit.resid.describe()"
     ],
     "language": "python",
     "metadata": {},
     "outputs": [
      {
       "metadata": {},
       "output_type": "pyout",
       "prompt_number": 13,
       "text": [
        "count    6.200000e+01\n",
        "mean     1.876532e-10\n",
        "std      3.916818e+00\n",
        "min     -4.702699e+00\n",
        "25%     -2.702699e+00\n",
        "50%     -5.968440e-01\n",
        "75%      1.279569e+00\n",
        "max      1.907592e+01\n",
        "dtype: float64"
       ]
      }
     ],
     "prompt_number": 13
    },
    {
     "cell_type": "markdown",
     "metadata": {},
     "source": [
      "Sums of squares are very important in statistics. Here's how to calculate them for the response values, the fitted model values, and the residuals:"
     ]
    },
    {
     "cell_type": "code",
     "collapsed": false,
     "input": [
      "(swim.time**2.).sum() # Could also use: np.sum(swim.time**2)"
     ],
     "language": "python",
     "metadata": {},
     "outputs": [
      {
       "metadata": {},
       "output_type": "pyout",
       "prompt_number": 15,
       "text": [
        "228635.01799999995"
       ]
      }
     ],
     "prompt_number": 15
    },
    {
     "cell_type": "code",
     "collapsed": false,
     "input": [
      "(fit.fittedvalues**2.).sum()"
     ],
     "language": "python",
     "metadata": {},
     "outputs": [
      {
       "metadata": {},
       "output_type": "pyout",
       "prompt_number": 16,
       "text": [
        "227699.18862492123"
       ]
      }
     ],
     "prompt_number": 16
    },
    {
     "cell_type": "code",
     "collapsed": false,
     "input": [
      "(fit.resid**2).sum()"
     ],
     "language": "python",
     "metadata": {},
     "outputs": [
      {
       "metadata": {},
       "output_type": "pyout",
       "prompt_number": 31,
       "text": [
        "4278.0064774193552"
       ]
      }
     ],
     "prompt_number": 31
    },
    {
     "cell_type": "markdown",
     "metadata": {},
     "source": [
      "The partitioning of variation by models is seen by the way the sum of squares of the fitted and the residuals add up to the sum of squares of the response:"
     ]
    },
    {
     "cell_type": "code",
     "collapsed": false,
     "input": [
      "227699.188 + 935.829"
     ],
     "language": "python",
     "metadata": {},
     "outputs": [
      {
       "metadata": {},
       "output_type": "pyout",
       "prompt_number": 19,
       "text": [
        "228635.017"
       ]
      }
     ],
     "prompt_number": 19
    },
    {
     "cell_type": "markdown",
     "metadata": {},
     "source": [
      "Don't forget the squaring stage of the operation! The sum of the residuals (without squaring) is very different from the sum of squares of the residuals:"
     ]
    },
    {
     "cell_type": "code",
     "collapsed": false,
     "input": [
      "fit.resid.sum()"
     ],
     "language": "python",
     "metadata": {},
     "outputs": [
      {
       "metadata": {},
       "output_type": "pyout",
       "prompt_number": 20,
       "text": [
        "1.1634497809609456e-08"
       ]
      }
     ],
     "prompt_number": 20
    },
    {
     "cell_type": "code",
     "collapsed": false,
     "input": [
      "(fit.resid**2).sum()"
     ],
     "language": "python",
     "metadata": {},
     "outputs": [
      {
       "metadata": {},
       "output_type": "pyout",
       "prompt_number": 21,
       "text": [
        "935.82937368701096"
       ]
      }
     ],
     "prompt_number": 21
    },
    {
     "cell_type": "markdown",
     "metadata": {},
     "source": [
      "Take care in reading numbers formatted like `1.163e-08`. The notation stands for $1.163 \\times 10^{-8}$. That number, 0.00000001163, is effectively zero compared to the residuals themselves!"
     ]
    },
    {
     "cell_type": "markdown",
     "metadata": {},
     "source": [
      "## Redundancy\n",
      "\n",
      "The functions used by `ols` and other 'statsmodels' model functions will not automatically detect redundancy introduced by the modeler. In other words, if you enter two different variables x1 and x2, but set them to be numerically equal, then statsmodels (via the  'Patsy' library) will indeed produce a design matrix that isn\u2019t full rank (i.e., contains redundancies). Avoiding this is up to the modeler, and is a simple case of careful model design. However, \"structural redundancies\" - those which occur inevitably no matter what the particular values in your data set - are handled automatically by the software.\n",
      "\n",
      "For example, whenever you use a categorical variable and an intercept term in a model, there is a redundancy. This is not shown explicitly. To illustrate, here is a model with no intercept term, and both levels of the categorical variable `sex` show up with parameters:"
     ]
    },
    {
     "cell_type": "code",
     "collapsed": false,
     "input": [
      "mod = sm.ols(\"time ~ sex - 1\", df=swim)\n",
      "fit = mod.fit()\n",
      "fit.params"
     ],
     "language": "python",
     "metadata": {},
     "outputs": [
      {
       "metadata": {},
       "output_type": "pyout",
       "prompt_number": 29,
       "text": [
        "sex[F]    65.192258\n",
        "sex[M]    54.656129\n",
        "dtype: float64"
       ]
      }
     ],
     "prompt_number": 29
    },
    {
     "cell_type": "markdown",
     "metadata": {},
     "source": [
      "If the intercept term is included (as it is by default unless `-1` is used in the model formula), one of the levels of the categorical variable is simply dropped from the model:"
     ]
    },
    {
     "cell_type": "code",
     "collapsed": false,
     "input": [
      "mod = sm.ols(\"time ~ sex\", df=swim)\n",
      "fit = mod.fit()\n",
      "fit.params"
     ],
     "language": "python",
     "metadata": {},
     "outputs": [
      {
       "metadata": {},
       "output_type": "pyout",
       "prompt_number": 30,
       "text": [
        "Intercept    65.192258\n",
        "sex[T.M]    -10.536129\n",
        "dtype: float64"
       ]
      }
     ],
     "prompt_number": 30
    },
    {
     "cell_type": "markdown",
     "metadata": {},
     "source": [
      "Remember that this coefficient report implicitly involves a redundancy (this is called a \"structural redundancy\"). If the software had been designed differently, the report might have returned a value of `nan` for `sex[T.F]`."
     ]
    },
    {
     "cell_type": "markdown",
     "metadata": {},
     "source": [
      "### Next time on, Statistical Modeling: A Fresh Approach for Python...\n",
      "\n",
      "* **Correlation and Partitioning of Variation**\n",
      "\n",
      "### Reference\n",
      "\n",
      "As with all 'Statistical Modeling: A Fresh Approach for Python' tutorials, this tutorial is based directly on material from ['Statistical Modeling: A Fresh Approach (2nd Edition)'][book] by [Daniel Kaplan][daniel-kaplan].\n",
      "\n",
      "I have made an effort to keep the text and explanations consistent between the original (R-based) version and the Python tutorials, in order to keep things comparable. With that in mind, any errors, omissions, and/or differences between the two versions are mine, and any questions, comments, and/or concerns should be [directed to me][].\n",
      "\n",
      "[book]: http://www.mosaic-web.org/go/StatisticalModeling/\n",
      "[daniel-kaplan]: http://www.macalester.edu/~kaplan/\n",
      "[directed to me]: mailto:carson.farmer@hunter.cuny.edu"
     ]
    }
   ],
   "metadata": {}
  }
 ]
}