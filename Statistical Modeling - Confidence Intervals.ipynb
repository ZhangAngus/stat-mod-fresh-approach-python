{
 "metadata": {
  "name": ""
 },
 "nbformat": 3,
 "nbformat_minor": 0,
 "worksheets": [
  {
   "cells": [
    {
     "cell_type": "raw",
     "metadata": {},
     "source": [
      "Title: Confidence Intervals\n",
      "Date: 2013-06-28 12:00\n",
      "Author: cfarmer\n",
      "Email: carson.farmer@gmail.com\n",
      "Category: Statistical Modeling for Python\n",
      "Tags: Helpful tips, Python, Statistical Modeling, Teaching\n",
      "Slug: statistical-modeling-python-conf-int\n",
      "Latex: yes\n",
      "Status: draft"
     ]
    },
    {
     "cell_type": "markdown",
     "metadata": {},
     "source": [
      "# Confidence Intervals\n",
      "\n",
      "It's easy enough to calculate the mean or median within groups. Often the point of doing this is to support a claim that the groups are di\ufb00erent, for instance that men are on average taller than women.\n",
      "\n",
      "Less obvious to those starting out in statistics is the idea that a quantity such as the mean or median itself has limited precision. This limited precision arises from the *sampling process* that was used to collect the data. The exact mean or median relates to the particular sample you have collected. One purpose of statistical inference is to characterize sampling *variability*, that is, to provide a quantitative meaning for the limited precision due to sampling variability.\n",
      "\n",
      "As usual, load pandas any other libraries that we'll need at the start of our session:"
     ]
    },
    {
     "cell_type": "code",
     "collapsed": false,
     "input": [
      "import numpy as np\n",
      "import pandas as pd\n",
      "import scipy.stats as st"
     ],
     "language": "python",
     "metadata": {},
     "outputs": [],
     "prompt_number": 41
    },
    {
     "cell_type": "markdown",
     "metadata": {},
     "source": [
      "The examples will be based on the Cherry-Blossom 2008 data described earlier:\n",
      "\n",
      "<span class=\"dataset shadow\"><i class=\"icon-flag\" style=\"font-size: 1.5em;\"></i> `Cherry-Blossom-2008.csv`</span>"
     ]
    },
    {
     "cell_type": "code",
     "collapsed": false,
     "input": [
      "run = pd.read_csv(\"http://www.mosaic-web.org/go/datasets/Cherry-Blossom-2008.csv\")\n",
      "run.columns"
     ],
     "language": "python",
     "metadata": {},
     "outputs": [
      {
       "metadata": {},
       "output_type": "pyout",
       "prompt_number": 3,
       "text": [
        "Index([u'position', u'division', u'total', u'name', u'age', u'place', u'net', u'gun', u'sex'], dtype=object)"
       ]
      }
     ],
     "prompt_number": 3
    },
    {
     "cell_type": "markdown",
     "metadata": {},
     "source": [
      "## Finding a Sampling Distribution through Bootstrapping\n",
      "\n",
      "Your data are typically a sample from a population. Collecting the sample is usually hard work. Just to illustrate the context of a sampling distribution, here is a simulation of selecting a sample of size `n = 100` from the population of runners. It\u2019s essential to keep in mind that you do not usually pull out your sample using the computer in this way. Instead, you go into the field or laboratory and collect your data."
     ]
    },
    {
     "cell_type": "code",
     "collapsed": false,
     "input": [
      "from numpy.random import choice\n",
      "mysamp = run.ix[choice(run.index, 100, replace=False)]"
     ],
     "language": "python",
     "metadata": {},
     "outputs": [],
     "prompt_number": 4
    },
    {
     "cell_type": "markdown",
     "metadata": {},
     "source": [
      "Now that you have a sample, you can calculate the sample statistic that's of interest to you. For instance:"
     ]
    },
    {
     "cell_type": "code",
     "collapsed": false,
     "input": [
      "mysamp.groupby(\"sex\").gun.mean()"
     ],
     "language": "python",
     "metadata": {},
     "outputs": [
      {
       "metadata": {},
       "output_type": "pyout",
       "prompt_number": 63,
       "text": [
        "sex\n",
        "F      98.507197\n",
        "M      85.622024\n",
        "Name: gun, dtype: float64"
       ]
      }
     ],
     "prompt_number": 63
    },
    {
     "cell_type": "markdown",
     "metadata": {},
     "source": [
      "Note that the results are slightly di\ufb00erent from those found above using the whole population. That's to be expected, since the sample is just a random part of the population. But ordinarily, you will not know what the population values are; all you have to work with is your sample.\n",
      "\n",
      "Theoretically, the sampling distribution re\ufb02ects the variation from one randomly dealt sample to another, where each sample is taken from the population. In practice, your only ready access to the population is through your sample. So, to simulate the process of random sampling, re-sampling is used and the re-sampling distribution is used as a convenient approximation to the sampling distribution."
     ]
    },
    {
     "cell_type": "markdown",
     "metadata": {},
     "source": [
      "Re-sampling involves drawing from the set of cases in your sample with replacement. To illustrate, consider this example of a very small, simple set: the numbers 1 to 5:"
     ]
    },
    {
     "cell_type": "code",
     "collapsed": false,
     "input": [
      "nums = range(1,6)\n",
      "nums"
     ],
     "language": "python",
     "metadata": {},
     "outputs": [
      {
       "metadata": {},
       "output_type": "pyout",
       "prompt_number": 13,
       "text": [
        "[1, 2, 3, 4, 5]"
       ]
      }
     ],
     "prompt_number": 13
    },
    {
     "cell_type": "markdown",
     "metadata": {},
     "source": [
      "Each resample of size n consists of n members from the set, but in any one resample each member might appear more than once and some might not appear at all. Here are three di\ufb00erent resamples from `nums`:"
     ]
    },
    {
     "cell_type": "code",
     "collapsed": false,
     "input": [
      "choice(nums, 5)"
     ],
     "language": "python",
     "metadata": {},
     "outputs": [
      {
       "metadata": {},
       "output_type": "pyout",
       "prompt_number": 14,
       "text": [
        "array([1, 3, 4, 2, 5])"
       ]
      }
     ],
     "prompt_number": 14
    },
    {
     "cell_type": "code",
     "collapsed": false,
     "input": [
      "choice(nums, 5)"
     ],
     "language": "python",
     "metadata": {},
     "outputs": [
      {
       "metadata": {},
       "output_type": "pyout",
       "prompt_number": 15,
       "text": [
        "array([3, 4, 3, 3, 5])"
       ]
      }
     ],
     "prompt_number": 15
    },
    {
     "cell_type": "code",
     "collapsed": false,
     "input": [
      "choice(nums, 5)"
     ],
     "language": "python",
     "metadata": {},
     "outputs": [
      {
       "metadata": {},
       "output_type": "pyout",
       "prompt_number": 16,
       "text": [
        "array([1, 4, 3, 5, 1])"
       ]
      }
     ],
     "prompt_number": 16
    },
    {
     "cell_type": "markdown",
     "metadata": {},
     "source": [
      "To use resampling to estimate the sampling distribution of a statistic, you apply the calculation of the statistic to a resampled version of your sample. For instance, here are the group-wise means from one resample of the `run` sample we created above:"
     ]
    },
    {
     "cell_type": "code",
     "collapsed": false,
     "input": [
      "newsamp = mysamp.ix[choice(mysamp.index, mysamp.shape[0])]\n",
      "newsamp.groupby(\"sex\").gun.mean()"
     ],
     "language": "python",
     "metadata": {},
     "outputs": [
      {
       "metadata": {},
       "output_type": "pyout",
       "prompt_number": 64,
       "text": [
        "sex\n",
        "F      97.468794\n",
        "M      87.433019\n",
        "Name: gun, dtype: float64"
       ]
      }
     ],
     "prompt_number": 64
    },
    {
     "cell_type": "markdown",
     "metadata": {},
     "source": [
      "This is quite verbose, so it might make sense to create a simple function to make things simpler (this new function could also be used in our earlier (re)sampling examples):"
     ]
    },
    {
     "cell_type": "code",
     "collapsed": false,
     "input": [
      "def resample(df, n=None, replace=True):\n",
      "    '''\n",
      "    A simple function to 'resample' a data frame\n",
      "    \n",
      "    Arguments\n",
      "    ----------\n",
      "    df : Input data frame (required)\n",
      "    n : The number of sampled cases to draw (optional)\n",
      "    replace : Sample with (True) or without (False) replacement (optional)\n",
      "    '''\n",
      "    if n is None: # if we don't supply a valid n, use same size as input\n",
      "        n = df.shape[0] # return data frame has shape == df.shape\n",
      "    # choose n cases at random, sample with replacement (replace == True)\n",
      "    choices = np.random.choice(df.index, n, replace=replace)\n",
      "    return df.ix[choices] # select subset and return new data frame"
     ],
     "language": "python",
     "metadata": {},
     "outputs": [],
     "prompt_number": 5
    },
    {
     "cell_type": "code",
     "collapsed": false,
     "input": [
      "resample(mysamp).groupby(\"sex\").gun.mean()"
     ],
     "language": "python",
     "metadata": {},
     "outputs": [
      {
       "metadata": {},
       "output_type": "pyout",
       "prompt_number": 65,
       "text": [
        "sex\n",
        "F      97.911852\n",
        "M      85.591515\n",
        "Name: gun, dtype: float64"
       ]
      }
     ],
     "prompt_number": 65
    },
    {
     "cell_type": "markdown",
     "metadata": {},
     "source": [
      "And here is another:"
     ]
    },
    {
     "cell_type": "code",
     "collapsed": false,
     "input": [
      "resample(mysamp).groupby(\"sex\").gun.mean()"
     ],
     "language": "python",
     "metadata": {},
     "outputs": [
      {
       "metadata": {},
       "output_type": "pyout",
       "prompt_number": 66,
       "text": [
        "sex\n",
        "F      97.758000\n",
        "M      84.017333\n",
        "Name: gun, dtype: float64"
       ]
      }
     ],
     "prompt_number": 66
    },
    {
     "cell_type": "markdown",
     "metadata": {},
     "source": [
      "The bootstrap procedure involves conducting many such trials and examining the variation from one trial to the next. Using Python's list comprehension (see previous Computational Techniques chapter, 'Describing Variation', or [this link][]), it is possible to automate the collection of multiple trials. For instance, here are five trials carried out using the above resampling technique:\n",
      "\n",
      "[this link]: http://www.secnetix.de/olli/Python/list_comprehensions.hawk"
     ]
    },
    {
     "cell_type": "code",
     "collapsed": false,
     "input": [
      "[resample(mysamp).groupby(\"sex\").gun.mean().values for i in range(5)]"
     ],
     "language": "python",
     "metadata": {},
     "outputs": [
      {
       "metadata": {},
       "output_type": "pyout",
       "prompt_number": 68,
       "text": [
        "[array([ 101.99254386,   88.3983871 ]),\n",
        " array([ 99.37689394,  84.9860119 ]),\n",
        " array([ 99.275     ,  83.12633333]),\n",
        " array([ 99.45614035,  83.68817204]),\n",
        " array([ 100.03819444,   80.99487179])]"
       ]
      }
     ],
     "prompt_number": 68
    },
    {
     "cell_type": "markdown",
     "metadata": {},
     "source": [
      "We can also wrap the above inside a call to `pd.DataFrame` to make it print nicely:"
     ]
    },
    {
     "cell_type": "code",
     "collapsed": false,
     "input": [
      "pd.DataFrame([resample(mysamp).gun.mean() for i in range(5)], index=range(5))"
     ],
     "language": "python",
     "metadata": {},
     "outputs": [
      {
       "html": [
        "<div style=\"max-height:1000px;max-width:1500px;overflow:auto;\">\n",
        "<table border=\"1\" class=\"dataframe\">\n",
        "  <thead>\n",
        "    <tr style=\"text-align: right;\">\n",
        "      <th></th>\n",
        "      <th>0</th>\n",
        "    </tr>\n",
        "  </thead>\n",
        "  <tbody>\n",
        "    <tr>\n",
        "      <th>0</th>\n",
        "      <td> 91.064000</td>\n",
        "    </tr>\n",
        "    <tr>\n",
        "      <th>1</th>\n",
        "      <td> 92.605833</td>\n",
        "    </tr>\n",
        "    <tr>\n",
        "      <th>2</th>\n",
        "      <td> 88.969500</td>\n",
        "    </tr>\n",
        "    <tr>\n",
        "      <th>3</th>\n",
        "      <td> 90.524667</td>\n",
        "    </tr>\n",
        "    <tr>\n",
        "      <th>4</th>\n",
        "      <td> 90.143000</td>\n",
        "    </tr>\n",
        "  </tbody>\n",
        "</table>\n",
        "</div>"
       ],
       "metadata": {},
       "output_type": "pyout",
       "prompt_number": 38,
       "text": [
        "           0\n",
        "0  91.064000\n",
        "1  92.605833\n",
        "2  88.969500\n",
        "3  90.524667\n",
        "4  90.143000"
       ]
      }
     ],
     "prompt_number": 38
    },
    {
     "cell_type": "markdown",
     "metadata": {},
     "source": [
      "Typically, you will use several hundred trials for bootstrapping. The most common way to summarize the variation in bootstrap trials is to calculate a 95% coverage interval (when applied to a sampling distribution, the coverage interval is called a **con\ufb01dence interval**).\n",
      "\n",
      "To do the computation, give a name to the results of the repeated bootstrap trials, here it\u2019s called trials:"
     ]
    },
    {
     "cell_type": "code",
     "collapsed": false,
     "input": [
      "trials = pd.DataFrame([resample(mysamp).groupby(\"sex\").gun.mean() for i in range(500)], index=range(500))\n",
      "trials.head()"
     ],
     "language": "python",
     "metadata": {},
     "outputs": [
      {
       "html": [
        "<div style=\"max-height:1000px;max-width:1500px;overflow:auto;\">\n",
        "<table border=\"1\" class=\"dataframe\">\n",
        "  <thead>\n",
        "    <tr style=\"text-align: right;\">\n",
        "      <th>sex</th>\n",
        "      <th>F</th>\n",
        "      <th>M</th>\n",
        "    </tr>\n",
        "  </thead>\n",
        "  <tbody>\n",
        "    <tr>\n",
        "      <th>0</th>\n",
        "      <td> 101.501984</td>\n",
        "      <td> 87.042529</td>\n",
        "    </tr>\n",
        "    <tr>\n",
        "      <th>1</th>\n",
        "      <td>  99.967045</td>\n",
        "      <td> 87.508631</td>\n",
        "    </tr>\n",
        "    <tr>\n",
        "      <th>2</th>\n",
        "      <td>  97.368478</td>\n",
        "      <td> 85.311420</td>\n",
        "    </tr>\n",
        "    <tr>\n",
        "      <th>3</th>\n",
        "      <td>  99.560606</td>\n",
        "      <td> 83.304464</td>\n",
        "    </tr>\n",
        "    <tr>\n",
        "      <th>4</th>\n",
        "      <td>  98.628889</td>\n",
        "      <td> 87.559091</td>\n",
        "    </tr>\n",
        "  </tbody>\n",
        "</table>\n",
        "</div>"
       ],
       "metadata": {},
       "output_type": "pyout",
       "prompt_number": 69,
       "text": [
        "sex           F          M\n",
        "0    101.501984  87.042529\n",
        "1     99.967045  87.508631\n",
        "2     97.368478  85.311420\n",
        "3     99.560606  83.304464\n",
        "4     98.628889  87.559091"
       ]
      }
     ],
     "prompt_number": 69
    },
    {
     "cell_type": "markdown",
     "metadata": {},
     "source": [
      "Computing the coverage intervals can be done using `Series.quantile()` for the 25th and 75th percentiles. You could also use `scipy.stats.scoreatpercentile` if you wanted (see previous Computational Techniques chapter, 'Describing Variation')."
     ]
    },
    {
     "cell_type": "code",
     "collapsed": false,
     "input": [
      "pd.DataFrame([trials.quantile(q) for q in [.025, .975]], index=(\"Lower\", \"Upper\")).T"
     ],
     "language": "python",
     "metadata": {},
     "outputs": [
      {
       "html": [
        "<div style=\"max-height:1000px;max-width:1500px;overflow:auto;\">\n",
        "<table border=\"1\" class=\"dataframe\">\n",
        "  <thead>\n",
        "    <tr style=\"text-align: right;\">\n",
        "      <th></th>\n",
        "      <th>Lower</th>\n",
        "      <th>Upper</th>\n",
        "    </tr>\n",
        "    <tr>\n",
        "      <th>sex</th>\n",
        "      <th></th>\n",
        "      <th></th>\n",
        "    </tr>\n",
        "  </thead>\n",
        "  <tbody>\n",
        "    <tr>\n",
        "      <th>F</th>\n",
        "      <td> 95.337556</td>\n",
        "      <td> 102.473628</td>\n",
        "    </tr>\n",
        "    <tr>\n",
        "      <th>M</th>\n",
        "      <td> 84.724423</td>\n",
        "      <td>  92.391599</td>\n",
        "    </tr>\n",
        "  </tbody>\n",
        "</table>\n",
        "</div>"
       ],
       "metadata": {},
       "output_type": "pyout",
       "prompt_number": 104,
       "text": [
        "         Lower       Upper\n",
        "sex                       \n",
        "F    95.337556  102.473628\n",
        "M    84.724423   92.391599"
       ]
      }
     ],
     "prompt_number": 104
    },
    {
     "cell_type": "markdown",
     "metadata": {},
     "source": [
      "The idea of sampling distributions is based on drawing at random from the population, not resampling. Ordinarily, you can\u2019t do this calculation since you don\u2019t have the population at hand. But in this example, we happen to have the data for all runners. Here\u2019s the population-based con\ufb01dence interval for the mean running time, with sample size `n = 100`, broken down by sex:"
     ]
    },
    {
     "cell_type": "code",
     "collapsed": false,
     "input": [
      "trials = pd.DataFrame([resample(run, 100).groupby(\"sex\").gun.mean() for i in range(500)], index=range(500))\n",
      "pd.DataFrame([trials.quantile(q) for q in [.025, .975]], index=(\"Lower\", \"Upper\")).T"
     ],
     "language": "python",
     "metadata": {},
     "outputs": [
      {
       "html": [
        "<div style=\"max-height:1000px;max-width:1500px;overflow:auto;\">\n",
        "<table border=\"1\" class=\"dataframe\">\n",
        "  <thead>\n",
        "    <tr style=\"text-align: right;\">\n",
        "      <th></th>\n",
        "      <th>Lower</th>\n",
        "      <th>Upper</th>\n",
        "    </tr>\n",
        "    <tr>\n",
        "      <th>sex</th>\n",
        "      <th></th>\n",
        "      <th></th>\n",
        "    </tr>\n",
        "  </thead>\n",
        "  <tbody>\n",
        "    <tr>\n",
        "      <th>F</th>\n",
        "      <td> 95.337556</td>\n",
        "      <td> 102.473628</td>\n",
        "    </tr>\n",
        "    <tr>\n",
        "      <th>M</th>\n",
        "      <td> 84.724423</td>\n",
        "      <td>  92.391599</td>\n",
        "    </tr>\n",
        "  </tbody>\n",
        "</table>\n",
        "</div>"
       ],
       "metadata": {},
       "output_type": "pyout",
       "prompt_number": 103,
       "text": [
        "         Lower       Upper\n",
        "sex                       \n",
        "F    95.337556  102.473628\n",
        "M    84.724423   92.391599"
       ]
      }
     ],
     "prompt_number": 103
    },
    {
     "cell_type": "markdown",
     "metadata": {},
     "source": [
      "The above output shows the lower and upper limits of the confidence interval for each of the groups. The labels on the columns indicate the confidence level. By convention, the interval is at the 95% level, and so the interval runs from the 2.5 percentile to the 97.5 percentile (`[.025, .975]`).\n",
      "\n",
      "Historically, statisticians have been concerned with very small samples: say `n = 2` or `n = 3`. Even in this era of huge data sets, such small sample sizes often are encountered in laboratory experiments, etc. Bootstrapping cannot work well with such small samples, and other techniques are needed to simulate sampling variability. Many of these techniques are based in algebra and probability theory, and give somewhat complex formulas for calculating con\ufb01dence intervals from data. The formulas are often found in textbooks, but for most of the modeling techniques you will use in later tutorials, appropriate formulas for confidence intervals have been implemented in software. For other modeling techniques, bootstrapping is used to find the confidence intervals. But keep in mind that bootstrapping can only be e\ufb00ective when the sample size `n` is one or two dozen or larger."
     ]
    },
    {
     "cell_type": "markdown",
     "metadata": {},
     "source": [
      "## Computing Grade-Point Averages\n",
      "\n",
      "The grade-point average is a kind of group-wise mean, where the group is an individual student. This is not the usual way of looking at things for a student, who sees only his or her own grades. But institutions have data on many students.\n",
      "\n",
      "The data files `grades.csv` and `courses.csv` are drawn from an institutional database at a college. They give the grades for more than 400 students who graduated in year 2005. Another file, `grade-to-number.csv`, gives the rules used by the institution in converting letter grades to numbers.\n",
      "\n",
      "<span class=\"dataset shadow\"><i class=\"icon-flag\" style=\"font-size: 1.5em;\"></i> `grades.csv`, `courses.csv`, `grade-to-number.csv`</span>\n",
      "\n",
      "The data files are part of a relational data base, a very important way of managing large amounts of data used by private and public institutions, corporations and governments - it\u2019s the basis for a multi-billion dollar segment of the economy. Ordinarily, relational data bases are queried using special-purpose computer languages that sort, extract, and combine the data. For convinience, we can load the data from csv files using the following Python commands. We can also convert the letter grades to numbers and extract the data for one student:"
     ]
    },
    {
     "cell_type": "code",
     "collapsed": false,
     "input": [
      "grades = pd.read_csv(\"http://www.mosaic-web.org/go/datasets/grades.csv\")\n",
      "gp = pd.read_csv(\"http://www.mosaic-web.org/go/datasets/grade-to-number.csv\")\n",
      "all_students = grades.merge(gp, on=\"grade\")\n",
      "one_student = all_students[all_students.sid == \"S31200\"]"
     ],
     "language": "python",
     "metadata": {},
     "outputs": [],
     "prompt_number": 93
    },
    {
     "cell_type": "code",
     "collapsed": false,
     "input": [
      "one_student.head() # There are 14 cases in total"
     ],
     "language": "python",
     "metadata": {},
     "outputs": [
      {
       "html": [
        "<div style=\"max-height:1000px;max-width:1500px;overflow:auto;\">\n",
        "<table border=\"1\" class=\"dataframe\">\n",
        "  <thead>\n",
        "    <tr style=\"text-align: right;\">\n",
        "      <th></th>\n",
        "      <th>sid</th>\n",
        "      <th>grade</th>\n",
        "      <th>sessionID</th>\n",
        "      <th>gradepoint</th>\n",
        "    </tr>\n",
        "  </thead>\n",
        "  <tbody>\n",
        "    <tr>\n",
        "      <th>1   </th>\n",
        "      <td> S31200</td>\n",
        "      <td> D+</td>\n",
        "      <td> session2331</td>\n",
        "      <td> 1.33</td>\n",
        "    </tr>\n",
        "    <tr>\n",
        "      <th>1036</th>\n",
        "      <td> S31200</td>\n",
        "      <td> A-</td>\n",
        "      <td> session3010</td>\n",
        "      <td> 3.66</td>\n",
        "    </tr>\n",
        "    <tr>\n",
        "      <th>2429</th>\n",
        "      <td> S31200</td>\n",
        "      <td> B-</td>\n",
        "      <td> session1835</td>\n",
        "      <td> 2.66</td>\n",
        "    </tr>\n",
        "    <tr>\n",
        "      <th>2430</th>\n",
        "      <td> S31200</td>\n",
        "      <td> B-</td>\n",
        "      <td> session1839</td>\n",
        "      <td> 2.66</td>\n",
        "    </tr>\n",
        "    <tr>\n",
        "      <th>2431</th>\n",
        "      <td> S31200</td>\n",
        "      <td> B-</td>\n",
        "      <td> session3809</td>\n",
        "      <td> 2.66</td>\n",
        "    </tr>\n",
        "  </tbody>\n",
        "</table>\n",
        "</div>"
       ],
       "metadata": {},
       "output_type": "pyout",
       "prompt_number": 94,
       "text": [
        "         sid grade    sessionID  gradepoint\n",
        "1     S31200    D+  session2331        1.33\n",
        "1036  S31200    A-  session3010        3.66\n",
        "2429  S31200    B-  session1835        2.66\n",
        "2430  S31200    B-  session1839        2.66\n",
        "2431  S31200    B-  session3809        2.66"
       ]
      }
     ],
     "prompt_number": 94
    },
    {
     "cell_type": "markdown",
     "metadata": {},
     "source": [
      "Calculating the mean grade-point for the one student is a simple matter:"
     ]
    },
    {
     "cell_type": "code",
     "collapsed": false,
     "input": [
      "one_student.gradepoint.mean()"
     ],
     "language": "python",
     "metadata": {},
     "outputs": [
      {
       "metadata": {},
       "output_type": "pyout",
       "prompt_number": 95,
       "text": [
        "2.1864285714285718"
       ]
      }
     ],
     "prompt_number": 95
    },
    {
     "cell_type": "markdown",
     "metadata": {},
     "source": [
      "It\u2019s equally straightforward to calculate the grade-point averages for all students as individuals:"
     ]
    },
    {
     "cell_type": "code",
     "collapsed": false,
     "input": [
      "grade_points = all_students.groupby(\"sid\").mean()\n",
      "grade_points.head() # There are 443 cases"
     ],
     "language": "python",
     "metadata": {},
     "outputs": [
      {
       "html": [
        "<div style=\"max-height:1000px;max-width:1500px;overflow:auto;\">\n",
        "<table border=\"1\" class=\"dataframe\">\n",
        "  <thead>\n",
        "    <tr style=\"text-align: right;\">\n",
        "      <th></th>\n",
        "      <th>gradepoint</th>\n",
        "    </tr>\n",
        "    <tr>\n",
        "      <th>sid</th>\n",
        "      <th></th>\n",
        "    </tr>\n",
        "  </thead>\n",
        "  <tbody>\n",
        "    <tr>\n",
        "      <th>S31185</th>\n",
        "      <td> 2.412500</td>\n",
        "    </tr>\n",
        "    <tr>\n",
        "      <th>S31188</th>\n",
        "      <td> 3.018125</td>\n",
        "    </tr>\n",
        "    <tr>\n",
        "      <th>S31191</th>\n",
        "      <td> 3.212143</td>\n",
        "    </tr>\n",
        "    <tr>\n",
        "      <th>S31194</th>\n",
        "      <td> 3.359167</td>\n",
        "    </tr>\n",
        "    <tr>\n",
        "      <th>S31197</th>\n",
        "      <td> 3.356154</td>\n",
        "    </tr>\n",
        "  </tbody>\n",
        "</table>\n",
        "</div>"
       ],
       "metadata": {},
       "output_type": "pyout",
       "prompt_number": 98,
       "text": [
        "        gradepoint\n",
        "sid               \n",
        "S31185    2.412500\n",
        "S31188    3.018125\n",
        "S31191    3.212143\n",
        "S31194    3.359167\n",
        "S31197    3.356154"
       ]
      }
     ],
     "prompt_number": 98
    },
    {
     "cell_type": "markdown",
     "metadata": {},
     "source": [
      "Bootstrapping can be used to find the confidence interval on the grade-point average for each student:"
     ]
    },
    {
     "cell_type": "code",
     "collapsed": false,
     "input": [
      "trials = pd.DataFrame([resample(all_students).groupby(\"sid\").gradepoint.mean() for i in range(100)], index=range(100))\n",
      "boot_grades = pd.DataFrame([trials.quantile(q) for q in [.025, .975]], index=(\"Lower\", \"Upper\")).T\n",
      "boot_grades.head() # Again, there are 443 cases"
     ],
     "language": "python",
     "metadata": {},
     "outputs": [
      {
       "html": [
        "<div style=\"max-height:1000px;max-width:1500px;overflow:auto;\">\n",
        "<table border=\"1\" class=\"dataframe\">\n",
        "  <thead>\n",
        "    <tr style=\"text-align: right;\">\n",
        "      <th></th>\n",
        "      <th>Lower</th>\n",
        "      <th>Upper</th>\n",
        "    </tr>\n",
        "  </thead>\n",
        "  <tbody>\n",
        "    <tr>\n",
        "      <th>S31185</th>\n",
        "      <td> 1.184750</td>\n",
        "      <td> 3.098750</td>\n",
        "    </tr>\n",
        "    <tr>\n",
        "      <th>S31188</th>\n",
        "      <td> 2.536667</td>\n",
        "      <td> 3.482661</td>\n",
        "    </tr>\n",
        "    <tr>\n",
        "      <th>S31191</th>\n",
        "      <td> 3.066850</td>\n",
        "      <td> 3.390382</td>\n",
        "    </tr>\n",
        "    <tr>\n",
        "      <th>S31194</th>\n",
        "      <td> 3.031157</td>\n",
        "      <td> 3.652067</td>\n",
        "    </tr>\n",
        "    <tr>\n",
        "      <th>S31197</th>\n",
        "      <td> 3.200412</td>\n",
        "      <td> 3.509527</td>\n",
        "    </tr>\n",
        "  </tbody>\n",
        "</table>\n",
        "</div>"
       ],
       "metadata": {},
       "output_type": "pyout",
       "prompt_number": 105,
       "text": [
        "           Lower     Upper\n",
        "S31185  1.184750  3.098750\n",
        "S31188  2.536667  3.482661\n",
        "S31191  3.066850  3.390382\n",
        "S31194  3.031157  3.652067\n",
        "S31197  3.200412  3.509527"
       ]
      }
     ],
     "prompt_number": 105
    },
    {
     "cell_type": "markdown",
     "metadata": {},
     "source": [
      "It\u2019s important to point out that there are other methods for calculating confidence intervals that are based on the standard deviation of the data. Formulas and procedures for such methods are given in just about every standard introductory statistics book and would certainly be used instead of bootstrapping in a simple calculation of the sort illustrated here.\n",
      "\n",
      "However, such formulas don\u2019t go to the heart of the problem: accounting for variation in the grades and the contribution from different sources of that variation. For example, some of the variation in this student\u2019s grades might be due systematically to improvement over time or due to di\ufb00erences between instructor\u2019s practices. The modeling techniques introduced in the following tutorials provide a means to examine and quantify the di\ufb00erent sources of variation."
     ]
    },
    {
     "cell_type": "markdown",
     "metadata": {},
     "source": [
      "### Next time on, Statistical Modeling: A Fresh Approach for Python...\n",
      "\n",
      "* **The Language of Models**\n",
      "\n",
      "### Reference\n",
      "\n",
      "As with all 'Statistical Modeling: A Fresh Approach for Python' tutorials, this tutorial is based directly on material from ['Statistical Modeling: A Fresh Approach (2nd Edition)'][book] by [Daniel Kaplan][daniel-kaplan].\n",
      "\n",
      "I have made an effort to keep the text and explanations consistent between the original (R-based) version and the Python tutorials, in order to keep things comparable. With that in mind, any errors, omissions, and/or differences between the two versions are mine, and any questions, comments, and/or concerns should be [directed to me][].\n",
      "\n",
      "[book]: http://www.mosaic-web.org/go/StatisticalModeling/\n",
      "[daniel-kaplan]: http://www.macalester.edu/~kaplan/\n",
      "[cases-variables-samples]: smafafp-data/\n",
      "[directed to me]: mailto:carson.farmer@hunter.cuny.edu"
     ]
    }
   ],
   "metadata": {}
  }
 ]
}