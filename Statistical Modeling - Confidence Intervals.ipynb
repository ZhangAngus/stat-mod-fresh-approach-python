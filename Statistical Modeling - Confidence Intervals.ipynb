{
 "metadata": {
  "name": ""
 },
 "nbformat": 3,
 "nbformat_minor": 0,
 "worksheets": [
  {
   "cells": [
    {
     "cell_type": "raw",
     "metadata": {},
     "source": [
      "Title: Confidence Intervals\n",
      "Date: 2013-06-28 12:00\n",
      "Author: cfarmer\n",
      "Email: carson.farmer@gmail.com\n",
      "Category: Statistical Modeling for Python\n",
      "Tags: Helpful tips, Python, Statistical Modeling, Teaching\n",
      "Slug: statistical-modeling-python-conf-int\n",
      "Latex: yes\n",
      "Status: draft"
     ]
    },
    {
     "cell_type": "markdown",
     "metadata": {},
     "source": [
      "# Confidence Intervals\n",
      "\n",
      "It's easy enough to calculate the mean or median within groups. Often the point of doing this is to support a claim that the groups are di\ufb00erent, for instance that men are on average taller than women.\n",
      "\n",
      "Less obvious to those starting out in statistics is the idea that a quantity such as the mean or median itself has limited precision. This limited precision arises from the *sampling process* that was used to collect the data. The exact mean or median relates to the particular sample you have collected. One purpose of statistical inference is to characterize sampling *variability*, that is, to provide a quantitative meaning for the limited precision due to sampling variability.\n",
      "\n",
      "As usual, load pandas any other libraries that we'll need at the start of our session:"
     ]
    },
    {
     "cell_type": "code",
     "collapsed": false,
     "input": [
      "import numpy as np\n",
      "import pandas as pd\n",
      "import statsmodels.formula.api as sm\n",
      "import scikits.bootstrap as bt"
     ],
     "language": "python",
     "metadata": {},
     "outputs": [],
     "prompt_number": 2
    },
    {
     "cell_type": "markdown",
     "metadata": {},
     "source": [
      "The examples will be based on the Cherry-Blossom 2008 data described earlier:\n",
      "\n",
      "<span class=\"dataset shadow\"><i class=\"icon-flag\" style=\"font-size: 1.5em;\"></i> `Cherry-Blossom-2008.csv`</span>"
     ]
    },
    {
     "cell_type": "code",
     "collapsed": false,
     "input": [
      "run = pd.read_csv(\"http://www.mosaic-web.org/go/datasets/Cherry-Blossom-2008.csv\")\n",
      "run.columns"
     ],
     "language": "python",
     "metadata": {},
     "outputs": [
      {
       "output_type": "pyout",
       "prompt_number": 3,
       "text": [
        "Index([position, division, total, name, age, place, net, gun, sex], dtype=object)"
       ]
      }
     ],
     "prompt_number": 3
    },
    {
     "cell_type": "markdown",
     "metadata": {},
     "source": [
      "## Finding a Sampling Distribution through Bootstrapping\n",
      "\n",
      "Your data are typically a sample from a population. Collecting the sample is usually hard work. Just to illustrate the context of a sampling distribution, here is a simulation of selecting a sample of size `n = 100` from the population of runners. It\u2019s essential to keep in mind that you do not usually pull out your sample using the computer in this way. Instead, you go into the field or laboratory and collect your data."
     ]
    },
    {
     "cell_type": "code",
     "collapsed": false,
     "input": [
      "mysamp = run.ix[np.random.choice(run.index, 100, replace=False)]"
     ],
     "language": "python",
     "metadata": {},
     "outputs": [],
     "prompt_number": 4
    },
    {
     "cell_type": "markdown",
     "metadata": {},
     "source": [
      "Now that you have a sample, you can calculate the sample statistic that's of interest to you. For instance:"
     ]
    },
    {
     "cell_type": "code",
     "collapsed": false,
     "input": [
      "mysamp.groupby(\"sex\").gun.mean()"
     ],
     "language": "python",
     "metadata": {},
     "outputs": [
      {
       "output_type": "pyout",
       "prompt_number": 5,
       "text": [
        "sex\n",
        "F      99.970000\n",
        "M      89.271818\n",
        "Name: gun, dtype: float64"
       ]
      }
     ],
     "prompt_number": 5
    },
    {
     "cell_type": "markdown",
     "metadata": {},
     "source": [
      "Note that the results are slightly di\ufb00erent from those found above using the whole population. That's to be expected, since the sample is just a random part of the population. But ordinarily, you will not know what the population values are; all you have to work with is your sample.\n",
      "\n",
      "Theoretically, the sampling distribution re\ufb02ects the variation from one randomly dealt sample to another, where each sample is taken from the population. In practice, your only ready access to the population is through your sample. So, to simulate the process of random sampling, re-sampling is used and the re-sampling distribution is used as a convenient approximation to the sampling distribution."
     ]
    },
    {
     "cell_type": "markdown",
     "metadata": {},
     "source": [
      "Re-sampling involves drawing from the set of cases in your sample with replacement. To illustrate, consider this example of a very small, simple set: the numbers 1 to 5:"
     ]
    },
    {
     "cell_type": "code",
     "collapsed": false,
     "input": [
      "nums = range(1,6)\n",
      "nums"
     ],
     "language": "python",
     "metadata": {},
     "outputs": [
      {
       "output_type": "pyout",
       "prompt_number": 8,
       "text": [
        "[1, 2, 3, 4, 5]"
       ]
      }
     ],
     "prompt_number": 8
    },
    {
     "cell_type": "markdown",
     "metadata": {},
     "source": [
      "Each resample of size n consists of n members from the set, but in any one resample each member might appear more than once and some might not appear at all. Here are three di\ufb00erent resamples from `nums`:"
     ]
    },
    {
     "cell_type": "code",
     "collapsed": false,
     "input": [
      "np.random.choice(nums, 5)"
     ],
     "language": "python",
     "metadata": {},
     "outputs": [
      {
       "output_type": "pyout",
       "prompt_number": 10,
       "text": [
        "array([3, 3, 4, 1, 2])"
       ]
      }
     ],
     "prompt_number": 10
    },
    {
     "cell_type": "code",
     "collapsed": false,
     "input": [
      "np.random.choice(nums, 5)"
     ],
     "language": "python",
     "metadata": {},
     "outputs": [
      {
       "output_type": "pyout",
       "prompt_number": 11,
       "text": [
        "array([3, 2, 5, 3, 2])"
       ]
      }
     ],
     "prompt_number": 11
    },
    {
     "cell_type": "code",
     "collapsed": false,
     "input": [
      "np.random.choice(nums, 5)"
     ],
     "language": "python",
     "metadata": {},
     "outputs": [
      {
       "output_type": "pyout",
       "prompt_number": 12,
       "text": [
        "array([1, 5, 5, 4, 2])"
       ]
      }
     ],
     "prompt_number": 12
    },
    {
     "cell_type": "markdown",
     "metadata": {},
     "source": [
      "To use resampling to estimate the sampling distribution of a statistic, you apply the calculation of the statistic to a resampled version of your sample. For instance, here are the group-wise means from one resample of the `run` sample we created above:"
     ]
    },
    {
     "cell_type": "code",
     "collapsed": false,
     "input": [
      "newsamp = mysamp.ix[np.random.choice(mysamp.index, mysamp.shape[0])]\n",
      "newsamp.groupby(\"sex\").gun.mean()"
     ],
     "language": "python",
     "metadata": {},
     "outputs": [
      {
       "output_type": "pyout",
       "prompt_number": 21,
       "text": [
        "sex\n",
        "F      100.735648\n",
        "M       89.265365\n",
        "Name: gun, dtype: float64"
       ]
      }
     ],
     "prompt_number": 21
    },
    {
     "cell_type": "markdown",
     "metadata": {},
     "source": [
      "This is quite verbose, so it might make sense to create a simple function to make things simpler (this new function could also be used in our earlier (re)sampling examples):"
     ]
    },
    {
     "cell_type": "code",
     "collapsed": false,
     "input": [
      "def resample(df, n=None, replace=True):\n",
      "    '''\n",
      "    A simple function called 'resample' with 3 arguments:\n",
      "    df      - data frame (required)\n",
      "    n       - number of sampled cases (optional)\n",
      "    replace - sample with (True) or without (False) replacement (optional)\n",
      "    '''\n",
      "    if n is None: # if we don't supply a valid n, use same size as input\n",
      "        n = df.shape[0] # return data frame has shape == df.shape\n",
      "    # choose n cases at random, sample with replacement (replace == True)\n",
      "    choices = np.random.choice(df.index, n, replace=replace)\n",
      "    return df.ix[choices] # select subset and return new data frame"
     ],
     "language": "python",
     "metadata": {},
     "outputs": [],
     "prompt_number": 26
    },
    {
     "cell_type": "code",
     "collapsed": false,
     "input": [
      "resample(mysamp).groupby(\"sex\").gun.mean()"
     ],
     "language": "python",
     "metadata": {},
     "outputs": [
      {
       "output_type": "pyout",
       "prompt_number": 27,
       "text": [
        "sex\n",
        "F      102.581818\n",
        "M       91.553274\n",
        "Name: gun, dtype: float64"
       ]
      }
     ],
     "prompt_number": 27
    },
    {
     "cell_type": "markdown",
     "metadata": {},
     "source": [
      "And here is another:"
     ]
    },
    {
     "cell_type": "code",
     "collapsed": false,
     "input": [
      "resample(mysamp).groupby(\"sex\").gun.mean()"
     ],
     "language": "python",
     "metadata": {},
     "outputs": [
      {
       "output_type": "pyout",
       "prompt_number": 28,
       "text": [
        "sex\n",
        "F      101.391667\n",
        "M       90.356944\n",
        "Name: gun, dtype: float64"
       ]
      }
     ],
     "prompt_number": 28
    },
    {
     "cell_type": "markdown",
     "metadata": {},
     "source": [
      "The bootstrap procedure involves conducting many such trials and examining the variation from one trial to the next.\n",
      "The do() function lets you automate the collection of multiple trials. For instance, here are five trials carried out using do():"
     ]
    },
    {
     "cell_type": "code",
     "collapsed": false,
     "input": [
      "def bootstrap(x, var, groupby=None, stat=np.mean, trials=5000):\n",
      "    names = ['var']\n",
      "    def func(y):\n",
      "        if not groupby is None:\n",
      "            g = x.ix[y].groupby(groupby)[var]\n",
      "            return g.apply(stat).tolist()\n",
      "        return x.ix[y][var].apply(stat)\n",
      "    if not groupby is None:\n",
      "        names = x[groupby].unique()\n",
      "    conf_ints = bt.ci(data=x.index, statfunction=func, n_samples=trials)\n",
      "    return pd.DataFrame(conf_ints, index=(\"Lower\", \"Upper\"), columns=names, )"
     ],
     "language": "python",
     "metadata": {},
     "outputs": [],
     "prompt_number": 48
    },
    {
     "cell_type": "markdown",
     "metadata": {},
     "source": [
      "Typically, you will use several hundred trials for bootstrapping. The most common way to summarize the variation in bootstrap trials, you can calculate a 95% coverage interval. (When applied to a sampling distribution, the coverage interval is called a con\ufb01dence interval).\n",
      "\n",
      "To do the computation, give a name to the results of the repeated bootstrap trials, here it\u2019s called trials:"
     ]
    },
    {
     "cell_type": "code",
     "collapsed": false,
     "input": [
      "bootstrap(mysamp, var=\"gun\", groupby=\"sex\", stat=np.mean, trials=1000)"
     ],
     "language": "python",
     "metadata": {},
     "outputs": [
      {
       "html": [
        "<div style=\"max-height:1000px;max-width:1500px;overflow:auto;\">\n",
        "<table border=\"1\" class=\"dataframe\">\n",
        "  <thead>\n",
        "    <tr style=\"text-align: right;\">\n",
        "      <th></th>\n",
        "      <th>M</th>\n",
        "      <th>F</th>\n",
        "    </tr>\n",
        "  </thead>\n",
        "  <tbody>\n",
        "    <tr>\n",
        "      <th>Lower</th>\n",
        "      <td>  95.876596</td>\n",
        "      <td> 86.109302</td>\n",
        "    </tr>\n",
        "    <tr>\n",
        "      <th>Upper</th>\n",
        "      <td> 103.767647</td>\n",
        "      <td> 93.167320</td>\n",
        "    </tr>\n",
        "  </tbody>\n",
        "</table>\n",
        "</div>"
       ],
       "output_type": "pyout",
       "prompt_number": 50,
       "text": [
        "                M          F\n",
        "Lower   95.876596  86.109302\n",
        "Upper  103.767647  93.167320"
       ]
      }
     ],
     "prompt_number": 50
    },
    {
     "cell_type": "code",
     "collapsed": false,
     "input": [
      "trials = pd.DataFrame([resample(mysamp).groupby(\"sex\").gun.mean() for i in range(500)], index=range(500))\n",
      "trials.head()"
     ],
     "language": "python",
     "metadata": {},
     "outputs": [
      {
       "html": [
        "<div style=\"max-height:1000px;max-width:1500px;overflow:auto;\">\n",
        "<table border=\"1\" class=\"dataframe\">\n",
        "  <thead>\n",
        "    <tr style=\"text-align: right;\">\n",
        "      <th>sex</th>\n",
        "      <th>F</th>\n",
        "      <th>M</th>\n",
        "    </tr>\n",
        "  </thead>\n",
        "  <tbody>\n",
        "    <tr>\n",
        "      <th>0</th>\n",
        "      <td> 100.975379</td>\n",
        "      <td> 90.575298</td>\n",
        "    </tr>\n",
        "    <tr>\n",
        "      <th>1</th>\n",
        "      <td> 101.255185</td>\n",
        "      <td> 89.643030</td>\n",
        "    </tr>\n",
        "    <tr>\n",
        "      <th>2</th>\n",
        "      <td>  95.545139</td>\n",
        "      <td> 87.561538</td>\n",
        "    </tr>\n",
        "    <tr>\n",
        "      <th>3</th>\n",
        "      <td> 101.045667</td>\n",
        "      <td> 89.419667</td>\n",
        "    </tr>\n",
        "    <tr>\n",
        "      <th>4</th>\n",
        "      <td> 100.112879</td>\n",
        "      <td> 87.947619</td>\n",
        "    </tr>\n",
        "  </tbody>\n",
        "</table>\n",
        "</div>"
       ],
       "output_type": "pyout",
       "prompt_number": 64,
       "text": [
        "sex           F          M\n",
        "0    100.975379  90.575298\n",
        "1    101.255185  89.643030\n",
        "2     95.545139  87.561538\n",
        "3    101.045667  89.419667\n",
        "4    100.112879  87.947619"
       ]
      }
     ],
     "prompt_number": 64
    },
    {
     "cell_type": "code",
     "collapsed": false,
     "input": [
      "pd.DataFrame([trials.quantile(q) for q in [.25, .75]], index=(\"Upper\", \"Lower\"))"
     ],
     "language": "python",
     "metadata": {},
     "outputs": [
      {
       "html": [
        "<div style=\"max-height:1000px;max-width:1500px;overflow:auto;\">\n",
        "<table border=\"1\" class=\"dataframe\">\n",
        "  <thead>\n",
        "    <tr style=\"text-align: right;\">\n",
        "      <th>sex</th>\n",
        "      <th>F</th>\n",
        "      <th>M</th>\n",
        "    </tr>\n",
        "  </thead>\n",
        "  <tbody>\n",
        "    <tr>\n",
        "      <th>Upper</th>\n",
        "      <td>  98.625194</td>\n",
        "      <td> 87.906098</td>\n",
        "    </tr>\n",
        "    <tr>\n",
        "      <th>Lower</th>\n",
        "      <td> 101.326328</td>\n",
        "      <td> 90.468092</td>\n",
        "    </tr>\n",
        "  </tbody>\n",
        "</table>\n",
        "</div>"
       ],
       "output_type": "pyout",
       "prompt_number": 65,
       "text": [
        "sex             F          M\n",
        "Upper   98.625194  87.906098\n",
        "Lower  101.326328  90.468092"
       ]
      }
     ],
     "prompt_number": 65
    },
    {
     "cell_type": "markdown",
     "metadata": {},
     "source": [
      "This can also be done using the following 'short hand' version:"
     ]
    },
    {
     "cell_type": "code",
     "collapsed": false,
     "input": [
      "(w.outcome==\"Alive\").mean()"
     ],
     "language": "python",
     "metadata": {},
     "outputs": [
      {
       "output_type": "pyout",
       "prompt_number": 30,
       "text": [
        "0.71917808219178081"
       ]
      }
     ],
     "prompt_number": 30
    },
    {
     "cell_type": "markdown",
     "metadata": {},
     "source": [
      "Here's the breakdown according to smoking status:"
     ]
    },
    {
     "cell_type": "code",
     "collapsed": false,
     "input": [
      "w.groupby(\"smoker\").alive.mean()"
     ],
     "language": "python",
     "metadata": {},
     "outputs": [
      {
       "output_type": "pyout",
       "prompt_number": 31,
       "text": [
        "smoker\n",
        "No        0.685792\n",
        "Yes       0.761168\n",
        "Name: alive, dtype: float64"
       ]
      }
     ],
     "prompt_number": 31
    },
    {
     "cell_type": "markdown",
     "metadata": {},
     "source": [
      "A more meaningful question is whether smokers are di\ufb00erent from non-smokers when holding other variables constant, such as age. To address this question, you need to add age into the model.\n",
      "\n",
      "It might be natural to consider each age - 35, 36, 37, and so on - as a separate group, but you won\u2019t get very many members of each group. And, likely, the data for 35 year-olds has quite a lot to say about 36 year-olds, so it doesn\u2019t make sense to treat them as completely separate groups.\n",
      "\n",
      "You can use the `cut()` function to divide up a quantitative variable into groups. You get to specify the breaks between groups. Using functionality we have already seen (e.g., when we created the new variable `alive` above), you can *add* the new variable to an existing data frame:"
     ]
    },
    {
     "cell_type": "code",
     "collapsed": false,
     "input": [
      "w[\"agegroups\"] = pd.cut(w.age, bins=(0,30,40,53,64,75,100))\n",
      "w.groupby(\"agegroups\").alive.mean()"
     ],
     "language": "python",
     "metadata": {},
     "outputs": [
      {
       "output_type": "pyout",
       "prompt_number": 34,
       "text": [
        "agegroups\n",
        "(0, 30]      0.979167\n",
        "(30, 40]     0.948413\n",
        "(40, 53]     0.832143\n",
        "(53, 64]     0.625498\n",
        "(64, 75]     0.201183\n",
        "(75, 100]    0.000000\n",
        "Name: alive, dtype: float64"
       ]
      }
     ],
     "prompt_number": 34
    },
    {
     "cell_type": "code",
     "collapsed": false,
     "input": [
      "w.groupby((\"agegroups\", \"smoker\")).alive.mean()"
     ],
     "language": "python",
     "metadata": {},
     "outputs": [
      {
       "output_type": "pyout",
       "prompt_number": 36,
       "text": [
        "agegroups  smoker\n",
        "(0, 30]    No        0.981818\n",
        "           Yes       0.975610\n",
        "(30, 40]   No        0.955224\n",
        "           Yes       0.940678\n",
        "(40, 53]   No        0.876106\n",
        "           Yes       0.802395\n",
        "(53, 64]   No        0.669291\n",
        "           Yes       0.580645\n",
        "(64, 75]   No        0.213740\n",
        "           Yes       0.157895\n",
        "(75, 100]  No        0.000000\n",
        "           Yes       0.000000\n",
        "Name: alive, dtype: float64"
       ]
      }
     ],
     "prompt_number": 36
    },
    {
     "cell_type": "markdown",
     "metadata": {},
     "source": [
      "The mean has been calculated group-by-group. This is a very widely used technique, but there is a better approach that will be introduced in later chapters: use quantitative variables directly without dividing them into groups."
     ]
    },
    {
     "cell_type": "markdown",
     "metadata": {},
     "source": [
      "## Model Values and Residuals\n",
      "\n",
      "A group-wise model tells you the model value for each group. There is additional information that you will want to generate about models. Two fundamental aspects of a model are the 'fitted' model values for each case and the 'residual' for each case. To make it easy to do these calculations, Python has a set of modeling functions from the 'statsmodels' library that helps keep track of the data used in creating and fitting models. Later tutorials will introduce the `ols()` function more thouroughly - ordinary least squares - that is central to statistical modeling. \n",
      "\n",
      "For now, we will use `ols()` to create a simple model based on groupwise means, and worry about all the additional diagnostics and summary statistics later."
     ]
    },
    {
     "cell_type": "markdown",
     "metadata": {},
     "source": [
      "<span class=\"note left shadow\">\n",
      "From a very young age, shoes for boys tend to be wider than shoes for girls. Is this because boys have wider feet, or because it is assumed that girls are willing to sacrifice comfort for fashion, even in elementary school? To assess the former, Mary C. Meyer, a statistician from Arbor, MI [measured kids' feet](http://www.amstat.org/publications/jse/v14n1/datasets.meyer.html) in a fourth grade classroom back in October 1997. Her ultimate goal was to answer the question: \"do boys have wider feet than girls?\". We are going to work with this data throughout these tutorials to build simple models and test for various statistical relationships.\n",
      "</span>\n",
      "\n",
      "<span class=\"dataset shadow\">`kidsfeet.csv`</span>"
     ]
    },
    {
     "cell_type": "code",
     "collapsed": false,
     "input": [
      "import statsmodels.formula.api as sm # import statsmodels\n",
      "kids = pd.read_csv(\"http://www.mosaic-web.org/go/datasets/kidsfeet.csv\")"
     ],
     "language": "python",
     "metadata": {},
     "outputs": [],
     "prompt_number": 40
    },
    {
     "cell_type": "code",
     "collapsed": false,
     "input": [
      "mod = sm.ols(formula='width ~ sex -1', df=kids).fit()\n",
      "mod.params"
     ],
     "language": "python",
     "metadata": {},
     "outputs": [
      {
       "output_type": "pyout",
       "prompt_number": 50,
       "text": [
        "sex[B]    9.190000\n",
        "sex[G]    8.784211\n",
        "dtype: float64"
       ]
      }
     ],
     "prompt_number": 50
    },
    {
     "cell_type": "markdown",
     "metadata": {},
     "source": [
      "Note the use of the `~` (pronounced \"tilde\") notation above. You will be using this notation frequently in building models. It means, \"model by\", \"broken down by\", \"versus\", or \"as a function of\"."
     ]
    },
    {
     "cell_type": "markdown",
     "metadata": {},
     "source": [
      "The `fittedvalues` attribute of a model, such as generated by `ols().fit()`, returns the fitted model value for each case in the data used to fit the model. To do this, the model takes each case in turn, figures out which group it belongs to and the corresponding model value, and then returns the set of model value for each of the cases. For example:"
     ]
    },
    {
     "cell_type": "code",
     "collapsed": false,
     "input": [
      "mod.fittedvalues.values # use `values` attribute to return simple array of fitted model values"
     ],
     "language": "python",
     "metadata": {},
     "outputs": [
      {
       "output_type": "pyout",
       "prompt_number": 52,
       "text": [
        "array([ 9.19      ,  9.19      ,  9.19      ,  9.19      ,  9.19      ,\n",
        "        9.19      ,  9.19      ,  8.78421053,  8.78421053,  9.19      ,\n",
        "        9.19      ,  9.19      ,  9.19      ,  9.19      ,  8.78421053,\n",
        "        8.78421053,  8.78421053,  8.78421053,  8.78421053,  8.78421053,\n",
        "        9.19      ,  9.19      ,  8.78421053,  8.78421053,  8.78421053,\n",
        "        9.19      ,  8.78421053,  9.19      ,  9.19      ,  9.19      ,\n",
        "        8.78421053,  8.78421053,  8.78421053,  9.19      ,  9.19      ,\n",
        "        8.78421053,  8.78421053,  8.78421053,  8.78421053])"
       ]
      }
     ],
     "prompt_number": 52
    },
    {
     "cell_type": "markdown",
     "metadata": {},
     "source": [
      "The residuals are found by subtracting the case-by-case model value from the actual values for each case. This is accomplished by the `resid` attribute of the `mod` model, which works in much the same way as `fitted`:"
     ]
    },
    {
     "cell_type": "code",
     "collapsed": false,
     "input": [
      "mod.resid.values # again, use `values` to return simple array of residuals"
     ],
     "language": "python",
     "metadata": {},
     "outputs": [
      {
       "output_type": "pyout",
       "prompt_number": 54,
       "text": [
        "array([-0.79      , -0.39      ,  0.51      ,  0.61      , -0.29      ,\n",
        "        0.51      ,  0.41      ,  0.01578947,  0.51578947, -0.39      ,\n",
        "        0.61      , -0.29      , -0.09      ,  0.61      ,  0.51578947,\n",
        "       -0.88421053, -0.08421053,  0.01578947,  0.21578947,  0.71578947,\n",
        "        0.01      , -0.59      , -0.48421053,  0.21578947, -0.68421053,\n",
        "        0.21      ,  0.71578947,  0.31      , -0.29      ,  0.11      ,\n",
        "        0.51578947, -0.18421053, -0.18421053, -0.19      , -0.59      ,\n",
        "       -0.28421053,  0.21578947, -0.88421053,  0.01578947])"
       ]
      }
     ],
     "prompt_number": 54
    },
    {
     "cell_type": "markdown",
     "metadata": {},
     "source": [
      "For each case, adding the residual to the fitted value will produce the value of the response variable.\n",
      "\n",
      "The `var()` function calculates variance. There is a simple additive relationship among the variances of the response variable, the model's fitted values, and the corresponding residual values:"
     ]
    },
    {
     "cell_type": "code",
     "collapsed": false,
     "input": [
      "kids.width.var()"
     ],
     "language": "python",
     "metadata": {},
     "outputs": [
      {
       "output_type": "pyout",
       "prompt_number": 55,
       "text": [
        "0.25967611336032431"
       ]
      }
     ],
     "prompt_number": 55
    },
    {
     "cell_type": "code",
     "collapsed": false,
     "input": [
      "mod.fittedvalues.var()"
     ],
     "language": "python",
     "metadata": {},
     "outputs": [
      {
       "output_type": "pyout",
       "prompt_number": 56,
       "text": [
        "0.042221819731342917"
       ]
      }
     ],
     "prompt_number": 56
    },
    {
     "cell_type": "code",
     "collapsed": false,
     "input": [
      "mod.resid.var()"
     ],
     "language": "python",
     "metadata": {},
     "outputs": [
      {
       "output_type": "pyout",
       "prompt_number": 57,
       "text": [
        "0.21745429362880894"
       ]
      }
     ],
     "prompt_number": 57
    },
    {
     "cell_type": "markdown",
     "metadata": {},
     "source": [
      "The variance of the response variable is equal to the variance of the fitted values *and* the variance of the residuals. Below, we show this (response var equal to fitted var plus residual var), with rounding to 8 significant digits to avoid numerical roundoff errors:"
     ]
    },
    {
     "cell_type": "code",
     "collapsed": false,
     "input": [
      "kids.width.var().round(8) == (mod.fittedvalues.var() + mod.resid.var()).round(8)"
     ],
     "language": "python",
     "metadata": {},
     "outputs": [
      {
       "output_type": "pyout",
       "prompt_number": 64,
       "text": [
        "True"
       ]
      }
     ],
     "prompt_number": 64
    },
    {
     "cell_type": "markdown",
     "metadata": {},
     "source": [
      "### Next time on, Statistical Modeling: A Fresh Approach for Python...\n",
      "\n",
      "* **Confidence Intervals**\n",
      "\n",
      "### Reference\n",
      "\n",
      "As with all 'Statistical Modeling: A Fresh Approach for Python' tutorials, this tutorial is based directly on material from ['Statistical Modeling: A Fresh Approach (2nd Edition)'][book] by [Daniel Kaplan][daniel-kaplan].\n",
      "\n",
      "I have made an effort to keep the text and explanations consistent between the original (R-based) version and the Python tutorials, in order to keep things comparable. With that in mind, any errors, omissions, and/or differences between the two versions are mine, and any questions, comments, and/or concerns should be [directed to me][].\n",
      "\n",
      "[book]: http://www.mosaic-web.org/go/StatisticalModeling/\n",
      "[daniel-kaplan]: http://www.macalester.edu/~kaplan/\n",
      "[cases-variables-samples]: smafafp-data/\n",
      "[directed to me]: mailto:carson.farmer@hunter.cuny.edu"
     ]
    }
   ],
   "metadata": {}
  }
 ]
}