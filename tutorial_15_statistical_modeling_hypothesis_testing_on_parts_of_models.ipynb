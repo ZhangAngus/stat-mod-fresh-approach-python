{
 "metadata": {
  "name": ""
 },
 "nbformat": 3,
 "nbformat_minor": 0,
 "worksheets": [
  {
   "cells": [
    {
     "cell_type": "raw",
     "metadata": {},
     "source": [
      "Title: Hypothesis Testing on Parts of Models\n",
      "Date: 2013-10-08 22:51\n",
      "Author: cfarmer\n",
      "Email: carson.farmer@gmail.com\n",
      "Category: Statistical Modeling for Python\n",
      "Tags: Helpful tips, Python, Statistical Modeling, Teaching\n",
      "Slug: statistical-modeling-python-hypothesis-testing-parts\n",
      "Latex: yes\n",
      "Status: draft"
     ]
    },
    {
     "cell_type": "markdown",
     "metadata": {},
     "source": [
      "# Hypothesis Testing on Parts of Models\n",
      "\n",
      "The basic software for hypothesis testing on parts of models involves the familiar `ols` function and `summary` method for generating the regression report and the `anova_lm` function for generating and ANOVA report on a model."
     ]
    },
    {
     "cell_type": "markdown",
     "metadata": {},
     "source": [
      "## ANOVA Reports\n",
      "\n",
      "The `anova_lm` function takes a model as an argument and produces the term-by-term ANOVA report. To illustrate, consider this model of wages from the Current Population Survey data:\n",
      "\n",
      "<span class=\"dataset shadow\"><i class=\"icon-flag\" style=\"font-size: 1.5em;\"></i> `cps.csv`</span>"
     ]
    },
    {
     "cell_type": "code",
     "collapsed": false,
     "input": [
      "from statsmodels.stats.anova import anova_lm\n",
      "import statsmodels.formula.api as sm\n",
      "import pandas as pd\n",
      "\n",
      "cps = pd.read_csv(\"http://www.mosaic-web.org/go/datasets/cps.csv\")\n",
      "mod1 = sm.ols(\"wage ~ married + age + educ\", data=cps)\n",
      "fit1 = mod1.fit()\n",
      "anova_lm(fit1, typ=1)"
     ],
     "language": "python",
     "metadata": {},
     "outputs": [
      {
       "html": [
        "<div style=\"max-height:1000px;max-width:1500px;overflow:auto;\">\n",
        "<table border=\"1\" class=\"dataframe\">\n",
        "  <thead>\n",
        "    <tr style=\"text-align: right;\">\n",
        "      <th></th>\n",
        "      <th>df</th>\n",
        "      <th>sum_sq</th>\n",
        "      <th>mean_sq</th>\n",
        "      <th>F</th>\n",
        "      <th>PR(&gt;F)</th>\n",
        "    </tr>\n",
        "  </thead>\n",
        "  <tbody>\n",
        "    <tr>\n",
        "      <th>married</th>\n",
        "      <td>   1</td>\n",
        "      <td>   142.401413</td>\n",
        "      <td>  142.401413</td>\n",
        "      <td>   6.740387</td>\n",
        "      <td> 9.686949e-03</td>\n",
        "    </tr>\n",
        "    <tr>\n",
        "      <th>age</th>\n",
        "      <td>   1</td>\n",
        "      <td>   338.479887</td>\n",
        "      <td>  338.479887</td>\n",
        "      <td>  16.021508</td>\n",
        "      <td> 7.155517e-05</td>\n",
        "    </tr>\n",
        "    <tr>\n",
        "      <th>educ</th>\n",
        "      <td>   1</td>\n",
        "      <td>  2398.723127</td>\n",
        "      <td> 2398.723127</td>\n",
        "      <td> 113.540462</td>\n",
        "      <td> 3.741813e-24</td>\n",
        "    </tr>\n",
        "    <tr>\n",
        "      <th>Residual</th>\n",
        "      <td> 530</td>\n",
        "      <td> 11197.094256</td>\n",
        "      <td>   21.126593</td>\n",
        "      <td>        NaN</td>\n",
        "      <td>          NaN</td>\n",
        "    </tr>\n",
        "  </tbody>\n",
        "</table>\n",
        "</div>"
       ],
       "metadata": {},
       "output_type": "pyout",
       "prompt_number": 42,
       "text": [
        "           df        sum_sq      mean_sq           F        PR(>F)\n",
        "married     1    142.401413   142.401413    6.740387  9.686949e-03\n",
        "age         1    338.479887   338.479887   16.021508  7.155517e-05\n",
        "educ        1   2398.723127  2398.723127  113.540462  3.741813e-24\n",
        "Residual  530  11197.094256    21.126593         NaN           NaN"
       ]
      }
     ],
     "prompt_number": 42
    },
    {
     "cell_type": "markdown",
     "metadata": {},
     "source": [
      "Note the small p-value on the `married` term: `0.00969`. \n",
      "\n",
      "To change the order of the terms in the report, you can create a new model with the explanatory terms listed in a different order. For example, here's the ANOVA on the same model, but with `married` list instead of first:\n",
      "### WARNING: This doesn't currently work properly!"
     ]
    },
    {
     "cell_type": "code",
     "collapsed": false,
     "input": [
      "mod2 = sm.ols(\"wage ~ educ + age + married\", data=cps)\n",
      "fit2 = mod2.fit()\n",
      "anova_lm(fit2, typ=1)"
     ],
     "language": "python",
     "metadata": {},
     "outputs": [
      {
       "html": [
        "<div style=\"max-height:1000px;max-width:1500px;overflow:auto;\">\n",
        "<table border=\"1\" class=\"dataframe\">\n",
        "  <thead>\n",
        "    <tr style=\"text-align: right;\">\n",
        "      <th></th>\n",
        "      <th>df</th>\n",
        "      <th>sum_sq</th>\n",
        "      <th>mean_sq</th>\n",
        "      <th>F</th>\n",
        "      <th>PR(&gt;F)</th>\n",
        "    </tr>\n",
        "  </thead>\n",
        "  <tbody>\n",
        "    <tr>\n",
        "      <th>married</th>\n",
        "      <td>   1</td>\n",
        "      <td>   142.401413</td>\n",
        "      <td>  142.401413</td>\n",
        "      <td>  6.740387</td>\n",
        "      <td> 9.686949e-03</td>\n",
        "    </tr>\n",
        "    <tr>\n",
        "      <th>educ</th>\n",
        "      <td>   1</td>\n",
        "      <td>  2094.528877</td>\n",
        "      <td> 2094.528877</td>\n",
        "      <td> 99.141820</td>\n",
        "      <td> 1.589724e-21</td>\n",
        "    </tr>\n",
        "    <tr>\n",
        "      <th>age</th>\n",
        "      <td>   1</td>\n",
        "      <td>   642.674137</td>\n",
        "      <td>  642.674137</td>\n",
        "      <td> 30.420150</td>\n",
        "      <td> 5.445293e-08</td>\n",
        "    </tr>\n",
        "    <tr>\n",
        "      <th>Residual</th>\n",
        "      <td> 530</td>\n",
        "      <td> 11197.094256</td>\n",
        "      <td>   21.126593</td>\n",
        "      <td>       NaN</td>\n",
        "      <td>          NaN</td>\n",
        "    </tr>\n",
        "  </tbody>\n",
        "</table>\n",
        "</div>"
       ],
       "metadata": {},
       "output_type": "pyout",
       "prompt_number": 43,
       "text": [
        "           df        sum_sq      mean_sq          F        PR(>F)\n",
        "married     1    142.401413   142.401413   6.740387  9.686949e-03\n",
        "educ        1   2094.528877  2094.528877  99.141820  1.589724e-21\n",
        "age         1    642.674137   642.674137  30.420150  5.445293e-08\n",
        "Residual  530  11197.094256    21.126593        NaN           NaN"
       ]
      }
     ],
     "prompt_number": 43
    },
    {
     "cell_type": "markdown",
     "metadata": {},
     "source": [
      "Now the p-value on `married` is large. This suggests that much of the variation in `wage` that is associated with `married` can also be accounted for by `age` and `educ` instead."
     ]
    },
    {
     "cell_type": "markdown",
     "metadata": {},
     "source": [
      "## Non-Parametric Statistics\n",
      "\n",
      "Consider the model of world-record swimming times plotting on page 116 of ['Statistical Modeling: A Fresh Approach (2nd Edition)'][book]. It shows pretty clearly the interaction between `year` and `sex`.\n",
      "\n",
      "<span class=\"dataset shadow\"><i class=\"icon-flag\" style=\"font-size: 1.5em;\"></i> `swim100m.csv`</span>\n",
      "\n",
      "[book]: http://www.mosaic-web.org/go/StatisticalModeling/"
     ]
    },
    {
     "cell_type": "code",
     "collapsed": false,
     "input": [
      "swim = pd.read_csv(\"http://www.mosaic-web.org/go/datasets/swim100m.csv\")\n",
      "from statsmodels.api import graphics\n",
      "import matplotlib.gridspec as gridspec\n",
      "\n",
      "fit0 = sm.ols(\"time ~ year*sex\", data=swim).fit() # Fit simple model"
     ],
     "language": "python",
     "metadata": {},
     "outputs": [],
     "prompt_number": 229
    },
    {
     "cell_type": "markdown",
     "metadata": {},
     "source": [
      "A version of the figure on page 116 can be generated as follows:"
     ]
    },
    {
     "cell_type": "code",
     "collapsed": false,
     "input": [
      "fig = figure(figsize=(12,5))\n",
      "gs = gridspec.GridSpec(1, 2, width_ratios=[3, 1]) \n",
      "ax1 = plt.subplot(gs[0])\n",
      "ax2 = plt.subplot(gs[1])\n",
      "graphics.plot_fit(fit0, \"year\", ax=ax1)\n",
      "ax1.set_title(\"\")\n",
      "ax1.set_ylabel(\"time (secs\")\n",
      "dat = dict(list(swim.groupby('sex').time))\n",
      "ax2.boxplot([dat[i] for i in dat.keys()])\n",
      "ax2.get_yaxis().set_visible(False)\n",
      "xticks([1, 2], ['M', 'F'])\n",
      "show()"
     ],
     "language": "python",
     "metadata": {},
     "outputs": [
      {
       "metadata": {},
       "output_type": "display_data",
       "png": "[encoded data removed]",
       "text": [
        "<matplotlib.figure.Figure at 0xa119b50>"
       ]
      }
     ],
     "prompt_number": 232
    },
    {
     "cell_type": "markdown",
     "metadata": {},
     "source": [
      "It's easy to confirm that this interaction term is statistically significant:"
     ]
    },
    {
     "cell_type": "code",
     "collapsed": false,
     "input": [
      "fit = sm.ols(\"time ~ year*sex\", data=swim).fit()\n",
      "anova_lm(fit, typ=1)"
     ],
     "language": "python",
     "metadata": {},
     "outputs": [
      {
       "html": [
        "<div style=\"max-height:1000px;max-width:1500px;overflow:auto;\">\n",
        "<table border=\"1\" class=\"dataframe\">\n",
        "  <thead>\n",
        "    <tr style=\"text-align: right;\">\n",
        "      <th></th>\n",
        "      <th>df</th>\n",
        "      <th>sum_sq</th>\n",
        "      <th>mean_sq</th>\n",
        "      <th>F</th>\n",
        "      <th>PR(&gt;F)</th>\n",
        "    </tr>\n",
        "  </thead>\n",
        "  <tbody>\n",
        "    <tr>\n",
        "      <th>sex</th>\n",
        "      <td>  1</td>\n",
        "      <td> 1720.655232</td>\n",
        "      <td> 1720.655232</td>\n",
        "      <td> 156.140793</td>\n",
        "      <td> 4.299569e-18</td>\n",
        "    </tr>\n",
        "    <tr>\n",
        "      <th>year</th>\n",
        "      <td>  1</td>\n",
        "      <td> 3342.177104</td>\n",
        "      <td> 3342.177104</td>\n",
        "      <td> 303.285733</td>\n",
        "      <td> 1.039245e-24</td>\n",
        "    </tr>\n",
        "    <tr>\n",
        "      <th>year:sex</th>\n",
        "      <td>  1</td>\n",
        "      <td>  296.675432</td>\n",
        "      <td>  296.675432</td>\n",
        "      <td>  26.921801</td>\n",
        "      <td> 2.826421e-06</td>\n",
        "    </tr>\n",
        "    <tr>\n",
        "      <th>Residual</th>\n",
        "      <td> 58</td>\n",
        "      <td>  639.153942</td>\n",
        "      <td>   11.019896</td>\n",
        "      <td>        NaN</td>\n",
        "      <td>          NaN</td>\n",
        "    </tr>\n",
        "  </tbody>\n",
        "</table>\n",
        "</div>"
       ],
       "metadata": {},
       "output_type": "pyout",
       "prompt_number": 47,
       "text": [
        "          df       sum_sq      mean_sq           F        PR(>F)\n",
        "sex        1  1720.655232  1720.655232  156.140793  4.299569e-18\n",
        "year       1  3342.177104  3342.177104  303.285733  1.039245e-24\n",
        "year:sex   1   296.675432   296.675432   26.921801  2.826421e-06\n",
        "Residual  58   639.153942    11.019896         NaN           NaN"
       ]
      }
     ],
     "prompt_number": 47
    },
    {
     "cell_type": "markdown",
     "metadata": {},
     "source": [
      "The p-value on the interaction term is very small: $2.83 \\times 10^{-6}$.\n",
      "\n",
      "To check whether this result might be influenced by the shape of the distribution of the `time` or `year` data, you can conduct a non-parametric test. Simply take the rank of each quantitative variable:"
     ]
    },
    {
     "cell_type": "code",
     "collapsed": false,
     "input": [
      "from numpy import argsort as rank\n",
      "fit = sm.ols(\"time.rank() ~ year.rank()*sex\", data=swim).fit()\n",
      "anova_lm(fit, typ=1)"
     ],
     "language": "python",
     "metadata": {},
     "outputs": [
      {
       "html": [
        "<div style=\"max-height:1000px;max-width:1500px;overflow:auto;\">\n",
        "<table border=\"1\" class=\"dataframe\">\n",
        "  <thead>\n",
        "    <tr style=\"text-align: right;\">\n",
        "      <th></th>\n",
        "      <th>df</th>\n",
        "      <th>sum_sq</th>\n",
        "      <th>mean_sq</th>\n",
        "      <th>F</th>\n",
        "      <th>PR(&gt;F)</th>\n",
        "    </tr>\n",
        "  </thead>\n",
        "  <tbody>\n",
        "    <tr>\n",
        "      <th>sex</th>\n",
        "      <td>  1</td>\n",
        "      <td>  6100.403226</td>\n",
        "      <td>  6100.403226</td>\n",
        "      <td> 1599.92582</td>\n",
        "      <td> 6.278398e-44</td>\n",
        "    </tr>\n",
        "    <tr>\n",
        "      <th>year.rank()</th>\n",
        "      <td>  1</td>\n",
        "      <td> 13533.070845</td>\n",
        "      <td> 13533.070845</td>\n",
        "      <td> 3549.25874</td>\n",
        "      <td> 1.006992e-53</td>\n",
        "    </tr>\n",
        "    <tr>\n",
        "      <th>year.rank():sex</th>\n",
        "      <td>  1</td>\n",
        "      <td>     0.876059</td>\n",
        "      <td>     0.876059</td>\n",
        "      <td>    0.22976</td>\n",
        "      <td> 6.335042e-01</td>\n",
        "    </tr>\n",
        "    <tr>\n",
        "      <th>Residual</th>\n",
        "      <td> 58</td>\n",
        "      <td>   221.149870</td>\n",
        "      <td>     3.812929</td>\n",
        "      <td>        NaN</td>\n",
        "      <td>          NaN</td>\n",
        "    </tr>\n",
        "  </tbody>\n",
        "</table>\n",
        "</div>"
       ],
       "metadata": {},
       "output_type": "pyout",
       "prompt_number": 50,
       "text": [
        "                 df        sum_sq       mean_sq           F        PR(>F)\n",
        "sex               1   6100.403226   6100.403226  1599.92582  6.278398e-44\n",
        "year.rank()       1  13533.070845  13533.070845  3549.25874  1.006992e-53\n",
        "year.rank():sex   1      0.876059      0.876059     0.22976  6.335042e-01\n",
        "Residual         58    221.149870      3.812929         NaN           NaN"
       ]
      }
     ],
     "prompt_number": 50
    },
    {
     "cell_type": "markdown",
     "metadata": {},
     "source": [
      "With the rank-transformed data, the p-value on the interaction term is much larger: no evidence for an interaction between `year` and `sex`. You can see this directly in a plot of the data after rank-transforming `time`:"
     ]
    },
    {
     "cell_type": "code",
     "collapsed": false,
     "input": [
      "fig, ax = subplots()\n",
      "swim['time_rank'] = swim.time.rank()\n",
      "colors = [\"blue\", \"green\"]\n",
      "for i, (key, grp) in enumerate(swim.groupby(['sex'])):\n",
      "    ax.scatter(y=grp.time_rank, x=grp.year, label=key, color=colors[i])\n",
      "legend(loc='best')\n",
      "xlabel(\"year\")\n",
      "ylabel(\"time (rank)\")\n",
      "show()"
     ],
     "language": "python",
     "metadata": {},
     "outputs": [
      {
       "metadata": {},
       "output_type": "display_data",
       "png": "[encoded data removed]",
       "text": [
        "<matplotlib.figure.Figure at 0x53bcd90>"
       ]
      }
     ],
     "prompt_number": 60
    },
    {
     "cell_type": "markdown",
     "metadata": {},
     "source": [
      "The rank-transformed data suggest that women's records are improving in about the same way as men's."
     ]
    },
    {
     "cell_type": "markdown",
     "metadata": {},
     "source": [
      "### Next time on, Statistical Modeling: A Fresh Approach for Python...\n",
      "\n",
      "* **Models of Yes/No Variables**\n",
      "\n",
      "### Reference\n",
      "\n",
      "As with all 'Statistical Modeling: A Fresh Approach for Python' tutorials, this tutorial is based directly on material from ['Statistical Modeling: A Fresh Approach (2nd Edition)'][book] by [Daniel Kaplan][daniel-kaplan].\n",
      "\n",
      "I have made an effort to keep the text and explanations consistent between the original (R-based) version and the Python tutorials, in order to keep things comparable. With that in mind, any errors, omissions, and/or differences between the two versions are mine, and any questions, comments, and/or concerns should be [directed to me][].\n",
      "\n",
      "[book]: http://www.mosaic-web.org/go/StatisticalModeling/\n",
      "[daniel-kaplan]: http://www.macalester.edu/~kaplan/\n",
      "[directed to me]: mailto:carson.farmer@hunter.cuny.edu"
     ]
    }
   ],
   "metadata": {}
  }
 ]
}