{
 "metadata": {
  "name": ""
 },
 "nbformat": 3,
 "nbformat_minor": 0,
 "worksheets": [
  {
   "cells": [
    {
     "cell_type": "raw",
     "metadata": {},
     "source": [
      "Title: Correlation and Partitioning of Variation\n",
      "Date: 2013-10-02 23:43\n",
      "Author: cfarmer\n",
      "Email: carson.farmer@gmail.com\n",
      "Category: Statistical Modeling for Python\n",
      "Tags: Helpful tips, Python, Statistical Modeling, Teaching\n",
      "Slug: statistical-modeling-python-correlation-partitioning\n",
      "Latex: yes\n",
      "Status: draft"
     ]
    },
    {
     "cell_type": "markdown",
     "metadata": {},
     "source": [
      "# Correlation and Partitioning of Variation\n",
      "\n",
      "The coefficient of determination, $R^2$, compares the variation in the repsonse variable to the variation in the fitted model value. It can be calculated as a ratio of variances:\n",
      "\n",
      "<span class=\"dataset shadow\"><i class=\"icon-flag\" style=\"font-size: 1.5em;\"></i> `swim100m.csv`</span>"
     ]
    },
    {
     "cell_type": "code",
     "collapsed": false,
     "input": [
      "import pandas as pd\n",
      "import statsmodels.formula.api as sm\n",
      "\n",
      "swim = pd.read_csv(\"http://www.mosaic-web.org/go/datasets/swim100m.csv\")\n",
      "mod = sm.ols(\"time ~ year + sex\", df=swim)\n",
      "fit = mod.fit()\n",
      "\n",
      "fit.fittedvalues.var() / swim.time.var()"
     ],
     "language": "python",
     "metadata": {},
     "outputs": [
      {
       "metadata": {},
       "output_type": "pyout",
       "prompt_number": 2,
       "text": [
        "0.84399364075244254"
       ]
      }
     ],
     "prompt_number": 2
    },
    {
     "cell_type": "markdown",
     "metadata": {},
     "source": [
      "The **regression report** is a standard way of summarizing models. Such a report is produced by most statistical software packages and used in many fields. The model coefficients are located in the second table - labeled \"coef\" - along with other information that will be introduced starting in the 'Confidence in Models' tutorial (Chapter 12). The $R^2$ statistic is also a standard part of the report; look at the second column in the first table of the regression report below."
     ]
    },
    {
     "cell_type": "code",
     "collapsed": false,
     "input": [
      "fit.summary()"
     ],
     "language": "python",
     "metadata": {},
     "outputs": [
      {
       "html": [
        "<table class=\"simpletable\">\n",
        "<caption>OLS Regression Results</caption>\n",
        "<tr>\n",
        "  <th>Dep. Variable:</th>          <td>time</td>       <th>  R-squared:         </th> <td>   0.844</td>\n",
        "</tr>\n",
        "<tr>\n",
        "  <th>Model:</th>                   <td>OLS</td>       <th>  Adj. R-squared:    </th> <td>   0.839</td>\n",
        "</tr>\n",
        "<tr>\n",
        "  <th>Method:</th>             <td>Least Squares</td>  <th>  F-statistic:       </th> <td>   159.6</td>\n",
        "</tr>\n",
        "<tr>\n",
        "  <th>Date:</th>             <td>Wed, 02 Oct 2013</td> <th>  Prob (F-statistic):</th> <td>1.58e-24</td>\n",
        "</tr>\n",
        "<tr>\n",
        "  <th>Time:</th>                 <td>23:12:29</td>     <th>  Log-Likelihood:    </th> <td> -172.12</td>\n",
        "</tr>\n",
        "<tr>\n",
        "  <th>No. Observations:</th>      <td>    62</td>      <th>  AIC:               </th> <td>   350.2</td>\n",
        "</tr>\n",
        "<tr>\n",
        "  <th>Df Residuals:</th>          <td>    59</td>      <th>  BIC:               </th> <td>   356.6</td>\n",
        "</tr>\n",
        "<tr>\n",
        "  <th>Df Model:</th>              <td>     2</td>      <th>                     </th>     <td> </td>   \n",
        "</tr>\n",
        "</table>\n",
        "<table class=\"simpletable\">\n",
        "<tr>\n",
        "      <td></td>         <th>coef</th>     <th>std err</th>      <th>t</th>      <th>P>|t|</th> <th>[95.0% Conf. Int.]</th> \n",
        "</tr>\n",
        "<tr>\n",
        "  <th>Intercept</th> <td>  555.7168</td> <td>   33.800</td> <td>   16.441</td> <td> 0.000</td> <td>  488.083   623.350</td>\n",
        "</tr>\n",
        "<tr>\n",
        "  <th>sex[T.M]</th>  <td>   -9.7980</td> <td>    1.013</td> <td>   -9.673</td> <td> 0.000</td> <td>  -11.825    -7.771</td>\n",
        "</tr>\n",
        "<tr>\n",
        "  <th>year</th>      <td>   -0.2515</td> <td>    0.017</td> <td>  -14.516</td> <td> 0.000</td> <td>   -0.286    -0.217</td>\n",
        "</tr>\n",
        "</table>\n",
        "<table class=\"simpletable\">\n",
        "<tr>\n",
        "  <th>Omnibus:</th>       <td>52.546</td> <th>  Durbin-Watson:     </th> <td>   0.375</td>\n",
        "</tr>\n",
        "<tr>\n",
        "  <th>Prob(Omnibus):</th> <td> 0.000</td> <th>  Jarque-Bera (JB):  </th> <td> 241.626</td>\n",
        "</tr>\n",
        "<tr>\n",
        "  <th>Skew:</th>          <td> 2.430</td> <th>  Prob(JB):          </th> <td>3.40e-53</td>\n",
        "</tr>\n",
        "<tr>\n",
        "  <th>Kurtosis:</th>      <td>11.362</td> <th>  Cond. No.          </th> <td>1.30e+05</td>\n",
        "</tr>\n",
        "</table>"
       ],
       "metadata": {},
       "output_type": "pyout",
       "prompt_number": 3,
       "text": [
        "<class 'statsmodels.iolib.summary.Summary'>\n",
        "\"\"\"\n",
        "                            OLS Regression Results                            \n",
        "==============================================================================\n",
        "Dep. Variable:                   time   R-squared:                       0.844\n",
        "Model:                            OLS   Adj. R-squared:                  0.839\n",
        "Method:                 Least Squares   F-statistic:                     159.6\n",
        "Date:                Wed, 02 Oct 2013   Prob (F-statistic):           1.58e-24\n",
        "Time:                        23:12:29   Log-Likelihood:                -172.12\n",
        "No. Observations:                  62   AIC:                             350.2\n",
        "Df Residuals:                      59   BIC:                             356.6\n",
        "Df Model:                           2                                         \n",
        "==============================================================================\n",
        "                 coef    std err          t      P>|t|      [95.0% Conf. Int.]\n",
        "------------------------------------------------------------------------------\n",
        "Intercept    555.7168     33.800     16.441      0.000       488.083   623.350\n",
        "sex[T.M]      -9.7980      1.013     -9.673      0.000       -11.825    -7.771\n",
        "year          -0.2515      0.017    -14.516      0.000        -0.286    -0.217\n",
        "==============================================================================\n",
        "Omnibus:                       52.546   Durbin-Watson:                   0.375\n",
        "Prob(Omnibus):                  0.000   Jarque-Bera (JB):              241.626\n",
        "Skew:                           2.430   Prob(JB):                     3.40e-53\n",
        "Kurtosis:                      11.362   Cond. No.                     1.30e+05\n",
        "==============================================================================\n",
        "\n",
        "The condition number is large, 1.3e+05. This might indicate that there are\n",
        "strong multicollinearity or other numerical problems.\n",
        "\"\"\""
       ]
      }
     ],
     "prompt_number": 3
    },
    {
     "cell_type": "markdown",
     "metadata": {},
     "source": [
      "Occasionally, you may be interested in the correlation coefficient, $r$, between two quantities. You can, of course, compute $r$ by fitting a model, finding $R^2$, and taking a square root."
     ]
    },
    {
     "cell_type": "code",
     "collapsed": false,
     "input": [
      "fit2 = sm.ols(\"time ~ year\", df=swim).fit()\n",
      "fit2.summary()"
     ],
     "language": "python",
     "metadata": {},
     "outputs": [
      {
       "html": [
        "<table class=\"simpletable\">\n",
        "<caption>OLS Regression Results</caption>\n",
        "<tr>\n",
        "  <th>Dep. Variable:</th>          <td>time</td>       <th>  R-squared:         </th> <td>   0.597</td>\n",
        "</tr>\n",
        "<tr>\n",
        "  <th>Model:</th>                   <td>OLS</td>       <th>  Adj. R-squared:    </th> <td>   0.590</td>\n",
        "</tr>\n",
        "<tr>\n",
        "  <th>Method:</th>             <td>Least Squares</td>  <th>  F-statistic:       </th> <td>   88.72</td>\n",
        "</tr>\n",
        "<tr>\n",
        "  <th>Date:</th>             <td>Wed, 02 Oct 2013</td> <th>  Prob (F-statistic):</th> <td>1.96e-13</td>\n",
        "</tr>\n",
        "<tr>\n",
        "  <th>Time:</th>                 <td>23:25:21</td>     <th>  Log-Likelihood:    </th> <td> -201.57</td>\n",
        "</tr>\n",
        "<tr>\n",
        "  <th>No. Observations:</th>      <td>    62</td>      <th>  AIC:               </th> <td>   407.1</td>\n",
        "</tr>\n",
        "<tr>\n",
        "  <th>Df Residuals:</th>          <td>    60</td>      <th>  BIC:               </th> <td>   411.4</td>\n",
        "</tr>\n",
        "<tr>\n",
        "  <th>Df Model:</th>              <td>     1</td>      <th>                     </th>     <td> </td>   \n",
        "</tr>\n",
        "</table>\n",
        "<table class=\"simpletable\">\n",
        "<tr>\n",
        "      <td></td>         <th>coef</th>     <th>std err</th>      <th>t</th>      <th>P>|t|</th> <th>[95.0% Conf. Int.]</th> \n",
        "</tr>\n",
        "<tr>\n",
        "  <th>Intercept</th> <td>  567.2420</td> <td>   53.866</td> <td>   10.531</td> <td> 0.000</td> <td>  459.495   674.989</td>\n",
        "</tr>\n",
        "<tr>\n",
        "  <th>year</th>      <td>   -0.2599</td> <td>    0.028</td> <td>   -9.419</td> <td> 0.000</td> <td>   -0.315    -0.205</td>\n",
        "</tr>\n",
        "</table>\n",
        "<table class=\"simpletable\">\n",
        "<tr>\n",
        "  <th>Omnibus:</th>       <td>16.284</td> <th>  Durbin-Watson:     </th> <td>   0.286</td>\n",
        "</tr>\n",
        "<tr>\n",
        "  <th>Prob(Omnibus):</th> <td> 0.000</td> <th>  Jarque-Bera (JB):  </th> <td>  21.691</td>\n",
        "</tr>\n",
        "<tr>\n",
        "  <th>Skew:</th>          <td> 1.018</td> <th>  Prob(JB):          </th> <td>1.95e-05</td>\n",
        "</tr>\n",
        "<tr>\n",
        "  <th>Kurtosis:</th>      <td> 5.061</td> <th>  Cond. No.          </th> <td>1.30e+05</td>\n",
        "</tr>\n",
        "</table>"
       ],
       "metadata": {},
       "output_type": "pyout",
       "prompt_number": 5,
       "text": [
        "<class 'statsmodels.iolib.summary.Summary'>\n",
        "\"\"\"\n",
        "                            OLS Regression Results                            \n",
        "==============================================================================\n",
        "Dep. Variable:                   time   R-squared:                       0.597\n",
        "Model:                            OLS   Adj. R-squared:                  0.590\n",
        "Method:                 Least Squares   F-statistic:                     88.72\n",
        "Date:                Wed, 02 Oct 2013   Prob (F-statistic):           1.96e-13\n",
        "Time:                        23:25:21   Log-Likelihood:                -201.57\n",
        "No. Observations:                  62   AIC:                             407.1\n",
        "Df Residuals:                      60   BIC:                             411.4\n",
        "Df Model:                           1                                         \n",
        "==============================================================================\n",
        "                 coef    std err          t      P>|t|      [95.0% Conf. Int.]\n",
        "------------------------------------------------------------------------------\n",
        "Intercept    567.2420     53.866     10.531      0.000       459.495   674.989\n",
        "year          -0.2599      0.028     -9.419      0.000        -0.315    -0.205\n",
        "==============================================================================\n",
        "Omnibus:                       16.284   Durbin-Watson:                   0.286\n",
        "Prob(Omnibus):                  0.000   Jarque-Bera (JB):               21.691\n",
        "Skew:                           1.018   Prob(JB):                     1.95e-05\n",
        "Kurtosis:                       5.061   Cond. No.                     1.30e+05\n",
        "==============================================================================\n",
        "\n",
        "The condition number is large, 1.3e+05. This might indicate that there are\n",
        "strong multicollinearity or other numerical problems.\n",
        "\"\"\""
       ]
      }
     ],
     "prompt_number": 5
    },
    {
     "cell_type": "markdown",
     "metadata": {},
     "source": [
      "The summary report gives $R^2 = 0.5965$. This corresponds to an $r$ value of"
     ]
    },
    {
     "cell_type": "code",
     "collapsed": false,
     "input": [
      "np.sqrt(0.5965)"
     ],
     "language": "python",
     "metadata": {},
     "outputs": [
      {
       "metadata": {},
       "output_type": "pyout",
       "prompt_number": 6,
       "text": [
        "0.77233412458598516"
       ]
      }
     ],
     "prompt_number": 6
    },
    {
     "cell_type": "markdown",
     "metadata": {},
     "source": [
      "The `corr` function on data frame columns can be used to compute this directly.\n",
      "\n",
      "<span class=\"note right shadow\" markdown=\"1\">\n",
      "Alternatively, the `pearsonr` function from `scipy.stats.stats` can be used to compute the Pearson R correlation and it's p-value:\n",
      "```python\n",
      "from scipy.stats.stats import pearsonr\n",
      "pearsonr(swim.time, swim.year)\n",
      "```\n",
      "</span>"
     ]
    },
    {
     "cell_type": "code",
     "collapsed": false,
     "input": [
      "swim.time.corr(swim.year)"
     ],
     "language": "python",
     "metadata": {},
     "outputs": [
      {
       "metadata": {},
       "output_type": "pyout",
       "prompt_number": 15,
       "text": [
        "-0.77237520216060374"
       ]
      }
     ],
     "prompt_number": 15
    },
    {
     "cell_type": "markdown",
     "metadata": {},
     "source": [
      "Note that the negative sign on $r$ indicates that record swim time decreases as the year increases. This information about the direction of change is contained in the sign of the coefficient from the model. The magnitude of the coefficient tells how fast the `time` is changing (with units of seconds per year). The correlation coefficient (like $R^2$) is without units.\n",
      "\n",
      "Keep in mind that the correlation coefficient $r$ summarizes only the simple linear model `A ~ B` where `B` is quantitative. But the coefficient of determination, $R^2$, summarizes any model; it is much more useful. If you want to see the direction of change, look at the sign of the coefficient."
     ]
    },
    {
     "cell_type": "markdown",
     "metadata": {},
     "source": [
      "### Next time on, Statistical Modeling: A Fresh Approach for Python...\n",
      "\n",
      "* **Total and Partial Relationships**\n",
      "\n",
      "### Reference\n",
      "\n",
      "As with all 'Statistical Modeling: A Fresh Approach for Python' tutorials, this tutorial is based directly on material from ['Statistical Modeling: A Fresh Approach (2nd Edition)'][book] by [Daniel Kaplan][daniel-kaplan].\n",
      "\n",
      "I have made an effort to keep the text and explanations consistent between the original (R-based) version and the Python tutorials, in order to keep things comparable. With that in mind, any errors, omissions, and/or differences between the two versions are mine, and any questions, comments, and/or concerns should be [directed to me][].\n",
      "\n",
      "[book]: http://www.mosaic-web.org/go/StatisticalModeling/\n",
      "[daniel-kaplan]: http://www.macalester.edu/~kaplan/\n",
      "[directed to me]: mailto:carson.farmer@hunter.cuny.edu"
     ]
    }
   ],
   "metadata": {}
  }
 ]
}