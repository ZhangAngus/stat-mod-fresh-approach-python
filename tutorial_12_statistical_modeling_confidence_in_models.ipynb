{
 "metadata": {
  "name": ""
 },
 "nbformat": 3,
 "nbformat_minor": 0,
 "worksheets": [
  {
   "cells": [
    {
     "cell_type": "raw",
     "metadata": {},
     "source": [
      "Title: Confidence in Models\n",
      "Date: 2013-10-05 17:05\n",
      "Author: cfarmer\n",
      "Email: carson.farmer@gmail.com\n",
      "Category: Statistical Modeling for Python\n",
      "Tags: Helpful tips, Python, Statistical Modeling, Teaching\n",
      "Slug: statistical-modeling-python-confidence-models\n",
      "Latex: yes\n",
      "Status: draft"
     ]
    },
    {
     "cell_type": "markdown",
     "metadata": {},
     "source": [
      "# Confidence in Models\n",
      "\n",
      "Regression reports are generated using software you have already encountered: `ols` to build a model, the `.fit()` method to fit the model, and the `summary()` method to construct the report from the fitted model. To illustrate:\n",
      "\n",
      "<span class=\"dataset shadow\"><i class=\"icon-flag\" style=\"font-size: 1.5em;\"></i> `swim100m.csv`</span>"
     ]
    },
    {
     "cell_type": "code",
     "collapsed": false,
     "input": [
      "import statsmodels.formula.api as sm\n",
      "import pandas as pd\n",
      "\n",
      "swim = pd.read_csv(\"http://www.mosaic-web.org/go/datasets/swim100m.csv\")\n",
      "mod = sm.ols(\"time ~ year + sex\", data=swim)\n",
      "fit = mod.fit()\n",
      "fit.summary()"
     ],
     "language": "python",
     "metadata": {},
     "outputs": [
      {
       "html": [
        "<table class=\"simpletable\">\n",
        "<caption>OLS Regression Results</caption>\n",
        "<tr>\n",
        "  <th>Dep. Variable:</th>          <td>time</td>       <th>  R-squared:         </th> <td>   0.844</td>\n",
        "</tr>\n",
        "<tr>\n",
        "  <th>Model:</th>                   <td>OLS</td>       <th>  Adj. R-squared:    </th> <td>   0.839</td>\n",
        "</tr>\n",
        "<tr>\n",
        "  <th>Method:</th>             <td>Least Squares</td>  <th>  F-statistic:       </th> <td>   159.6</td>\n",
        "</tr>\n",
        "<tr>\n",
        "  <th>Date:</th>             <td>Sun, 06 Oct 2013</td> <th>  Prob (F-statistic):</th> <td>1.58e-24</td>\n",
        "</tr>\n",
        "<tr>\n",
        "  <th>Time:</th>                 <td>22:24:52</td>     <th>  Log-Likelihood:    </th> <td> -172.12</td>\n",
        "</tr>\n",
        "<tr>\n",
        "  <th>No. Observations:</th>      <td>    62</td>      <th>  AIC:               </th> <td>   350.2</td>\n",
        "</tr>\n",
        "<tr>\n",
        "  <th>Df Residuals:</th>          <td>    59</td>      <th>  BIC:               </th> <td>   356.6</td>\n",
        "</tr>\n",
        "<tr>\n",
        "  <th>Df Model:</th>              <td>     2</td>      <th>                     </th>     <td> </td>   \n",
        "</tr>\n",
        "</table>\n",
        "<table class=\"simpletable\">\n",
        "<tr>\n",
        "      <td></td>         <th>coef</th>     <th>std err</th>      <th>t</th>      <th>P>|t|</th> <th>[95.0% Conf. Int.]</th> \n",
        "</tr>\n",
        "<tr>\n",
        "  <th>Intercept</th> <td>  555.7168</td> <td>   33.800</td> <td>   16.441</td> <td> 0.000</td> <td>  488.083   623.350</td>\n",
        "</tr>\n",
        "<tr>\n",
        "  <th>sex[T.M]</th>  <td>   -9.7980</td> <td>    1.013</td> <td>   -9.673</td> <td> 0.000</td> <td>  -11.825    -7.771</td>\n",
        "</tr>\n",
        "<tr>\n",
        "  <th>year</th>      <td>   -0.2515</td> <td>    0.017</td> <td>  -14.516</td> <td> 0.000</td> <td>   -0.286    -0.217</td>\n",
        "</tr>\n",
        "</table>\n",
        "<table class=\"simpletable\">\n",
        "<tr>\n",
        "  <th>Omnibus:</th>       <td>52.546</td> <th>  Durbin-Watson:     </th> <td>   0.375</td>\n",
        "</tr>\n",
        "<tr>\n",
        "  <th>Prob(Omnibus):</th> <td> 0.000</td> <th>  Jarque-Bera (JB):  </th> <td> 241.626</td>\n",
        "</tr>\n",
        "<tr>\n",
        "  <th>Skew:</th>          <td> 2.430</td> <th>  Prob(JB):          </th> <td>3.40e-53</td>\n",
        "</tr>\n",
        "<tr>\n",
        "  <th>Kurtosis:</th>      <td>11.362</td> <th>  Cond. No.          </th> <td>1.30e+05</td>\n",
        "</tr>\n",
        "</table>"
       ],
       "metadata": {},
       "output_type": "pyout",
       "prompt_number": 4,
       "text": [
        "<class 'statsmodels.iolib.summary.Summary'>\n",
        "\"\"\"\n",
        "                            OLS Regression Results                            \n",
        "==============================================================================\n",
        "Dep. Variable:                   time   R-squared:                       0.844\n",
        "Model:                            OLS   Adj. R-squared:                  0.839\n",
        "Method:                 Least Squares   F-statistic:                     159.6\n",
        "Date:                Sun, 06 Oct 2013   Prob (F-statistic):           1.58e-24\n",
        "Time:                        22:24:52   Log-Likelihood:                -172.12\n",
        "No. Observations:                  62   AIC:                             350.2\n",
        "Df Residuals:                      59   BIC:                             356.6\n",
        "Df Model:                           2                                         \n",
        "==============================================================================\n",
        "                 coef    std err          t      P>|t|      [95.0% Conf. Int.]\n",
        "------------------------------------------------------------------------------\n",
        "Intercept    555.7168     33.800     16.441      0.000       488.083   623.350\n",
        "sex[T.M]      -9.7980      1.013     -9.673      0.000       -11.825    -7.771\n",
        "year          -0.2515      0.017    -14.516      0.000        -0.286    -0.217\n",
        "==============================================================================\n",
        "Omnibus:                       52.546   Durbin-Watson:                   0.375\n",
        "Prob(Omnibus):                  0.000   Jarque-Bera (JB):              241.626\n",
        "Skew:                           2.430   Prob(JB):                     3.40e-53\n",
        "Kurtosis:                      11.362   Cond. No.                     1.30e+05\n",
        "==============================================================================\n",
        "\n",
        "Warnings:\n",
        "[1] The condition number is large, 1.3e+05. This might indicate that there are\n",
        "strong multicollinearity or other numerical problems.\n",
        "\"\"\""
       ]
      }
     ],
     "prompt_number": 4
    },
    {
     "cell_type": "code",
     "collapsed": false,
     "input": [
      "from scipy.stats import t\n",
      "t.ppf(1 - 0.05 / 2, fit.df_resid)"
     ],
     "language": "python",
     "metadata": {},
     "outputs": [
      {
       "metadata": {},
       "output_type": "pyout",
       "prompt_number": 5,
       "text": [
        "2.0009953770482101"
       ]
      }
     ],
     "prompt_number": 5
    },
    {
     "cell_type": "markdown",
     "metadata": {},
     "source": [
      "## Confidence Intervals from Standard Errors\n",
      "\n",
      "Given the coefficient estimate and the standard error from the regression report, the confidence interval is easily generated (it is also included in the `summary()` report by default). For a 95% confidence interval, you just multiply the standard error by about 2 to get the margin of error. For example, in the above, the margin of error on `sex[T.M]` is aproximately $2.0 \\times 1.013 = 2.026$, or, in computer notation:"
     ]
    },
    {
     "cell_type": "code",
     "collapsed": false,
     "input": [
      "2.*1.013"
     ],
     "language": "python",
     "metadata": {},
     "outputs": [
      {
       "metadata": {},
       "output_type": "pyout",
       "prompt_number": 19,
       "text": [
        "2.026"
       ]
      }
     ],
     "prompt_number": 19
    },
    {
     "cell_type": "markdown",
     "metadata": {},
     "source": [
      "If you want the two endpoints of the confidence interval, rather than just the margin of error, do these simple calculations: 1) subtract the margin of error from the estimate, 2) add the margin of error tot he estimate. So,"
     ]
    },
    {
     "cell_type": "code",
     "collapsed": false,
     "input": [
      "-9.798 - (2.*1.013)"
     ],
     "language": "python",
     "metadata": {},
     "outputs": [
      {
       "metadata": {},
       "output_type": "pyout",
       "prompt_number": 20,
       "text": [
        "-11.824"
       ]
      }
     ],
     "prompt_number": 20
    },
    {
     "cell_type": "code",
     "collapsed": false,
     "input": [
      "-9.798 + (2.*1.013)"
     ],
     "language": "python",
     "metadata": {},
     "outputs": [
      {
       "metadata": {},
       "output_type": "pyout",
       "prompt_number": 21,
       "text": [
        "-7.772"
       ]
      }
     ],
     "prompt_number": 21
    },
    {
     "cell_type": "markdown",
     "metadata": {},
     "source": [
      "The key thing to remember is the multiplier that is applied to the standard error. A multiplier of approximately 2 is used for a 95% confidence level. The Conf. Int. field in the regression report provides a convenient way to obtain the confidence intervals directly. It actually calculates the *exact* multiplier (which depends somewhat on the sample size) and applies it to the standard error to produce the confidence intervals. You can also retrieve the cofidence intervals directly from the fitted model object:"
     ]
    },
    {
     "cell_type": "code",
     "collapsed": false,
     "input": [
      "fit = sm.ols(\"time ~ year + sex\", data=swim).fit()\n",
      "fit.conf_int()"
     ],
     "language": "python",
     "metadata": {},
     "outputs": [
      {
       "html": [
        "<div style=\"max-height:1000px;max-width:1500px;overflow:auto;\">\n",
        "<table border=\"1\" class=\"dataframe\">\n",
        "  <thead>\n",
        "    <tr style=\"text-align: right;\">\n",
        "      <th></th>\n",
        "      <th>0</th>\n",
        "      <th>1</th>\n",
        "    </tr>\n",
        "  </thead>\n",
        "  <tbody>\n",
        "    <tr>\n",
        "      <th>Intercept</th>\n",
        "      <td> 488.083311</td>\n",
        "      <td> 623.350256</td>\n",
        "    </tr>\n",
        "    <tr>\n",
        "      <th>sex[T.M]</th>\n",
        "      <td> -11.824713</td>\n",
        "      <td>  -7.771209</td>\n",
        "    </tr>\n",
        "    <tr>\n",
        "      <th>year</th>\n",
        "      <td>  -0.286128</td>\n",
        "      <td>  -0.216800</td>\n",
        "    </tr>\n",
        "  </tbody>\n",
        "</table>\n",
        "</div>"
       ],
       "metadata": {},
       "output_type": "pyout",
       "prompt_number": 7,
       "text": [
        "                    0           1\n",
        "Intercept  488.083311  623.350256\n",
        "sex[T.M]   -11.824713   -7.771209\n",
        "year        -0.286128   -0.216800"
       ]
      }
     ],
     "prompt_number": 7
    },
    {
     "cell_type": "markdown",
     "metadata": {},
     "source": [
      "## Bootstrapping Confidence Intervals\n",
      "\n",
      "Confidence intervals on model coefficients can be computed using the same bootstrapping technique introduced in Tutorial 5 (Confidence Intervals).\n",
      "\n",
      "Start with your fitted model. To illustrate, here is the same model as above, looking at swimming time over the years, taking into account sex:"
     ]
    },
    {
     "cell_type": "code",
     "collapsed": false,
     "input": [
      "fit = sm.ols(\"time ~ year + sex\", data=swim).fit()\n",
      "fit.params"
     ],
     "language": "python",
     "metadata": {},
     "outputs": [
      {
       "metadata": {},
       "output_type": "pyout",
       "prompt_number": 8,
       "text": [
        "Intercept    555.716783\n",
        "sex[T.M]      -9.797961\n",
        "year          -0.251464\n",
        "dtype: float64"
       ]
      }
     ],
     "prompt_number": 8
    },
    {
     "cell_type": "markdown",
     "metadata": {},
     "source": [
      "These parameters reflect one hypothetical draw from the population-based sampling distribution. It's impossible to get another draw from the \"population\" here - the actual records are all you've got. But to approximate sampling variation, you can treat the sample as your population and re-sample, using the `resample` function we defined in Tutorial 5 (Confidence Intervals):"
     ]
    },
    {
     "cell_type": "code",
     "collapsed": false,
     "input": [
      "import numpy as np\n",
      "def resample(df, n=None, replace=True):\n",
      "    '''\n",
      "    A simple function to 'resample' a data frame\n",
      "    \n",
      "    Arguments\n",
      "    ----------\n",
      "    df : Input data frame (required)\n",
      "    n : The number of sampled cases to draw (optional)\n",
      "    replace : Sample with (True) or without (False) replacement (optional)\n",
      "    '''\n",
      "    if n is None: # if we don't supply a valid n, use same size as input\n",
      "        n = df.shape[0] # return data frame has shape == df.shape\n",
      "    # choose n cases at random, sample with replacement (replace == True)\n",
      "    choices = np.random.choice(df.index, n, replace=replace)\n",
      "    return df.ix[choices] # select subset and return new data frame\n",
      "\n",
      "fit = sm.ols(\"time ~ year + sex\", data=resample(swim)).fit()\n",
      "fit.params"
     ],
     "language": "python",
     "metadata": {},
     "outputs": [
      {
       "metadata": {},
       "output_type": "pyout",
       "prompt_number": 10,
       "text": [
        "Intercept    593.800992\n",
        "sex[T.M]     -10.707462\n",
        "year          -0.270630\n",
        "dtype: float64"
       ]
      }
     ],
     "prompt_number": 10
    },
    {
     "cell_type": "markdown",
     "metadata": {},
     "source": [
      "Construct many such re-sampling trials and collect the results"
     ]
    },
    {
     "cell_type": "code",
     "collapsed": false,
     "input": [
      "s = pd.DataFrame([sm.ols(\"time ~ year + sex\", data=resample(swim)).fit().params for i in range(500)], index=range(500))"
     ],
     "language": "python",
     "metadata": {},
     "outputs": [],
     "prompt_number": 12
    },
    {
     "cell_type": "code",
     "collapsed": false,
     "input": [
      "s.head()"
     ],
     "language": "python",
     "metadata": {},
     "outputs": [
      {
       "html": [
        "<div style=\"max-height:1000px;max-width:1500px;overflow:auto;\">\n",
        "<table border=\"1\" class=\"dataframe\">\n",
        "  <thead>\n",
        "    <tr style=\"text-align: right;\">\n",
        "      <th></th>\n",
        "      <th>Intercept</th>\n",
        "      <th>sex[T.M]</th>\n",
        "      <th>year</th>\n",
        "    </tr>\n",
        "  </thead>\n",
        "  <tbody>\n",
        "    <tr>\n",
        "      <th>0</th>\n",
        "      <td> 530.219915</td>\n",
        "      <td> -9.257418</td>\n",
        "      <td>-0.238826</td>\n",
        "    </tr>\n",
        "    <tr>\n",
        "      <th>1</th>\n",
        "      <td> 616.791588</td>\n",
        "      <td>-11.004144</td>\n",
        "      <td>-0.282477</td>\n",
        "    </tr>\n",
        "    <tr>\n",
        "      <th>2</th>\n",
        "      <td> 601.240175</td>\n",
        "      <td> -9.098913</td>\n",
        "      <td>-0.274934</td>\n",
        "    </tr>\n",
        "    <tr>\n",
        "      <th>3</th>\n",
        "      <td> 609.460845</td>\n",
        "      <td>-11.378371</td>\n",
        "      <td>-0.278428</td>\n",
        "    </tr>\n",
        "    <tr>\n",
        "      <th>4</th>\n",
        "      <td> 581.716203</td>\n",
        "      <td> -9.944458</td>\n",
        "      <td>-0.264425</td>\n",
        "    </tr>\n",
        "  </tbody>\n",
        "</table>\n",
        "</div>"
       ],
       "metadata": {},
       "output_type": "pyout",
       "prompt_number": 13,
       "text": [
        "    Intercept   sex[T.M]      year\n",
        "0  530.219915  -9.257418 -0.238826\n",
        "1  616.791588 -11.004144 -0.282477\n",
        "2  601.240175  -9.098913 -0.274934\n",
        "3  609.460845 -11.378371 -0.278428\n",
        "4  581.716203  -9.944458 -0.264425"
       ]
      }
     ],
     "prompt_number": 13
    },
    {
     "cell_type": "markdown",
     "metadata": {},
     "source": [
      "To get the standard errors of the coefficients, just take the standard deviation across the re-sampling trials:"
     ]
    },
    {
     "cell_type": "code",
     "collapsed": false,
     "input": [
      "s.std()"
     ],
     "language": "python",
     "metadata": {},
     "outputs": [
      {
       "metadata": {},
       "output_type": "pyout",
       "prompt_number": 14,
       "text": [
        "Intercept    43.598751\n",
        "sex[T.M]      0.965063\n",
        "year          0.022016\n",
        "dtype: float64"
       ]
      }
     ],
     "prompt_number": 14
    },
    {
     "cell_type": "markdown",
     "metadata": {},
     "source": [
      "Multiplying the standard error by 2 gives the approximate 95% margin of error. Alternatively, you can compute the confidence interval directly:"
     ]
    },
    {
     "cell_type": "code",
     "collapsed": false,
     "input": [
      "from scipy.stats import t # Use the Student's t distribution to compute the multiplier\n",
      "mult = t.ppf(1.-(1.-0.95)/2., s.shape[0]-1.) # Should be close to 2\n",
      "confs = [s.mean() + s.std() * i * mult for i in (-1,1)] # Mean +/- Std Dev * Multiplier"
     ],
     "language": "python",
     "metadata": {},
     "outputs": [],
     "prompt_number": 15
    },
    {
     "cell_type": "markdown",
     "metadata": {},
     "source": [
      "And print it nicely as a Pandas data frame:"
     ]
    },
    {
     "cell_type": "code",
     "collapsed": false,
     "input": [
      "pd.DataFrame(confs, index=[\"Lower\", \"Upper\"]).T"
     ],
     "language": "python",
     "metadata": {},
     "outputs": [
      {
       "html": [
        "<div style=\"max-height:1000px;max-width:1500px;overflow:auto;\">\n",
        "<table border=\"1\" class=\"dataframe\">\n",
        "  <thead>\n",
        "    <tr style=\"text-align: right;\">\n",
        "      <th></th>\n",
        "      <th>Lower</th>\n",
        "      <th>Upper</th>\n",
        "    </tr>\n",
        "  </thead>\n",
        "  <tbody>\n",
        "    <tr>\n",
        "      <th>Intercept</th>\n",
        "      <td> 471.161195</td>\n",
        "      <td> 642.480689</td>\n",
        "    </tr>\n",
        "    <tr>\n",
        "      <th>sex[T.M]</th>\n",
        "      <td> -11.722037</td>\n",
        "      <td>  -7.929862</td>\n",
        "    </tr>\n",
        "    <tr>\n",
        "      <th>year</th>\n",
        "      <td>  -0.295287</td>\n",
        "      <td>  -0.208775</td>\n",
        "    </tr>\n",
        "  </tbody>\n",
        "</table>\n",
        "</div>"
       ],
       "metadata": {},
       "output_type": "pyout",
       "prompt_number": 16,
       "text": [
        "                Lower       Upper\n",
        "Intercept  471.161195  642.480689\n",
        "sex[T.M]   -11.722037   -7.929862\n",
        "year        -0.295287   -0.208775"
       ]
      }
     ],
     "prompt_number": 16
    },
    {
     "cell_type": "markdown",
     "metadata": {},
     "source": [
      "## Prediction Confidence Intervals\n",
      "\n",
      "When a model is used to make a prediction, it's helpful to be able to describe how precise the prediction is. For instance, suppose you want to use the `kidsfeet.csv` data set to make a prediction of the foot width of a girl whose foot length is 25 cm.\n",
      "\n",
      "<span class=\"dataset shadow\"><i class=\"icon-flag\" style=\"font-size: 1.5em;\"></i> `kidsfeet.csv`</span>\n",
      "\n",
      "First, fit your model:"
     ]
    },
    {
     "cell_type": "code",
     "collapsed": false,
     "input": [
      "feet = pd.read_csv(\"http://www.mosaic-web.org/go/datasets/kidsfeet.csv\")\n",
      "feet.columns"
     ],
     "language": "python",
     "metadata": {},
     "outputs": [
      {
       "metadata": {},
       "output_type": "pyout",
       "prompt_number": 17,
       "text": [
        "Index([u'name', u'birthmonth', u'birthyear', u'length', u'width', u'sex', u'biggerfoot', u'domhand'], dtype=object)"
       ]
      }
     ],
     "prompt_number": 17
    },
    {
     "cell_type": "code",
     "collapsed": false,
     "input": [
      "feet.sex.unique()"
     ],
     "language": "python",
     "metadata": {},
     "outputs": [
      {
       "metadata": {},
       "output_type": "pyout",
       "prompt_number": 18,
       "text": [
        "array(['B', 'G'], dtype=object)"
       ]
      }
     ],
     "prompt_number": 18
    },
    {
     "cell_type": "code",
     "collapsed": false,
     "input": [
      "mod = sm.ols(\"width ~ length + sex\", data=feet)\n",
      "fit = mod.fit()"
     ],
     "language": "python",
     "metadata": {},
     "outputs": [],
     "prompt_number": 19
    },
    {
     "cell_type": "markdown",
     "metadata": {},
     "source": [
      "The fitted model object (`fit`) contains a lot of information about the model (`mod`) and the data used for fitting the parameters. For the purposes of using the fitted model to make predictions, you want a function that takes the values for the explanatory variables as inputs, and returns the corresponding model value as the output. The `predict` method of the fitted model object `fit` performs just such a task. With it, you can convert inputs into outputs. Take care to use the right coding for categorical variables."
     ]
    },
    {
     "cell_type": "code",
     "collapsed": false,
     "input": [
      "pred = fit.predict({\"length\":25, \"sex\":\"G\"})\n",
      "pred"
     ],
     "language": "python",
     "metadata": {},
     "outputs": [
      {
       "metadata": {},
       "output_type": "pyout",
       "prompt_number": 68,
       "text": [
        "array([ 8.93427484])"
       ]
      }
     ],
     "prompt_number": 68
    },
    {
     "cell_type": "markdown",
     "metadata": {},
     "source": [
      "In order to generate a confidence interval on our prediction, we need to decide what type of interval we want. There are two types of prediction confidence intervals that we can calculate:\n",
      "\n",
      "**Interval on the model value** which reflects the sampling distributions of the coefficients themselves. To calculate this, we first need to calculate the prediction mean standard error and the inverse survival function for the Student's t distribution (basically the opposite to the percent point function (`ppf`) introduced earlier).\n",
      "\n",
      "<span class=\"note left shadow\" markdown=\"1\">\n",
      "Unfortunately, this isn't (yet) as simple as it could be using the \"statsmodels\" library. Future version of this package may allow users to compute this directly from the fitted model object.\n",
      "</span>"
     ]
    },
    {
     "cell_type": "code",
     "collapsed": false,
     "input": [
      "from scipy.stats import t\n",
      "pmse = fit.t_test(np.array([1., 1., 25.0])).sd[0][0]\n",
      "tppf = t.isf(0.05/2., fit.df_resid)\n",
      "\n",
      "confs = [pred + i * tppf * pmse for i in (-1,1)] # Pred +/- MSE * TPPF\n",
      "confs.append(pred) # Add on the prediction value\n",
      "pd.DataFrame(confs, index=[\"Lower\", \"Upper\", \"Prediction\"]).T"
     ],
     "language": "python",
     "metadata": {},
     "outputs": [
      {
       "html": [
        "<div style=\"max-height:1000px;max-width:1500px;overflow:auto;\">\n",
        "<table border=\"1\" class=\"dataframe\">\n",
        "  <thead>\n",
        "    <tr style=\"text-align: right;\">\n",
        "      <th></th>\n",
        "      <th>Lower</th>\n",
        "      <th>Upper</th>\n",
        "      <th>Prediction</th>\n",
        "    </tr>\n",
        "  </thead>\n",
        "  <tbody>\n",
        "    <tr>\n",
        "      <th>0</th>\n",
        "      <td> 8.742565</td>\n",
        "      <td> 9.125985</td>\n",
        "      <td> 8.934275</td>\n",
        "    </tr>\n",
        "  </tbody>\n",
        "</table>\n",
        "</div>"
       ],
       "metadata": {},
       "output_type": "pyout",
       "prompt_number": 86,
       "text": [
        "      Lower     Upper  Prediction\n",
        "0  8.742565  9.125985    8.934275"
       ]
      }
     ],
     "prompt_number": 86
    },
    {
     "cell_type": "markdown",
     "metadata": {},
     "source": [
      "**Interval on the prediction** which includes the variation due to the uncertainty in the coefficients as well as the size of a typical residual. To find this interval, use the `wls_predction_std` function from the `statsmodels.sandbox.regression.predstd` module.\n",
      "\n",
      "<span class=\"note right shadow\" markdown=\"1\">\n",
      "Again, future versions of \"statsmodels\" may make accessing these prediction confidence intervals easier...\n",
      "</span>"
     ]
    },
    {
     "cell_type": "code",
     "collapsed": false,
     "input": [
      "from statsmodels.sandbox.regression.predstd import wls_prediction_std\n",
      "prstd, iv_l, iv_u = wls_prediction_std(fit, exog=np.array([1., 1., 25.0]))\n",
      "confs = [iv_l[0], iv_u[0], pred[0]]\n",
      "pd.DataFrame(confs, index=[\"Lower\", \"Upper\", \"Prediction\"]).T"
     ],
     "language": "python",
     "metadata": {},
     "outputs": [
      {
       "html": [
        "<div style=\"max-height:1000px;max-width:1500px;overflow:auto;\">\n",
        "<table border=\"1\" class=\"dataframe\">\n",
        "  <thead>\n",
        "    <tr style=\"text-align: right;\">\n",
        "      <th></th>\n",
        "      <th>Lower</th>\n",
        "      <th>Upper</th>\n",
        "      <th>Prediction</th>\n",
        "    </tr>\n",
        "  </thead>\n",
        "  <tbody>\n",
        "    <tr>\n",
        "      <th>0</th>\n",
        "      <td> 8.130484</td>\n",
        "      <td> 9.738066</td>\n",
        "      <td> 8.934275</td>\n",
        "    </tr>\n",
        "  </tbody>\n",
        "</table>\n",
        "</div>"
       ],
       "metadata": {},
       "output_type": "pyout",
       "prompt_number": 87,
       "text": [
        "      Lower     Upper  Prediction\n",
        "0  8.130484  9.738066    8.934275"
       ]
      }
     ],
     "prompt_number": 87
    },
    {
     "cell_type": "markdown",
     "metadata": {},
     "source": [
      "The prediction interval is larger than the model-value confidence interval because the residual always gives additional uncertainty around the model value."
     ]
    },
    {
     "cell_type": "markdown",
     "metadata": {},
     "source": [
      "### Next time on, Statistical Modeling: A Fresh Approach for Python...\n",
      "\n",
      "* **Hypothesis Testing on Whole Models**\n",
      "\n",
      "### Reference\n",
      "\n",
      "As with all 'Statistical Modeling: A Fresh Approach for Python' tutorials, this tutorial is based directly on material from ['Statistical Modeling: A Fresh Approach (2nd Edition)'][book] by [Daniel Kaplan][daniel-kaplan].\n",
      "\n",
      "I have made an effort to keep the text and explanations consistent between the original (R-based) version and the Python tutorials, in order to keep things comparable. With that in mind, any errors, omissions, and/or differences between the two versions are mine, and any questions, comments, and/or concerns should be [directed to me][].\n",
      "\n",
      "[book]: http://www.mosaic-web.org/go/StatisticalModeling/\n",
      "[daniel-kaplan]: http://www.macalester.edu/~kaplan/\n",
      "[directed to me]: mailto:carson.farmer@hunter.cuny.edu"
     ]
    }
   ],
   "metadata": {}
  }
 ]
}